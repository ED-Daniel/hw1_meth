{
  "cells": [
    {
      "cell_type": "markdown",
      "metadata": {
        "id": "CLLeQw9Mxab4"
      },
      "source": [
        "## Ссылка на диск с картированными чтениями"
      ]
    },
    {
      "cell_type": "markdown",
      "metadata": {
        "id": "iX7NcoC_CLY0"
      },
      "source": [
        "\n",
        "| | SRA accession  | Stage    |\n",
        "|---:|:-------------|:-----------|\n",
        "| 1 | SRR5836473  | 8 cell       |\n",
        "| 2 | SRR3824222 | Epiblast    |\n",
        "| 3 | SRR5836475  | ICM       |\n"
      ]
    },
    {
      "cell_type": "markdown",
      "metadata": {
        "id": "RQAK_lggxsXi"
      },
      "source": [
        "[Bam-файлы и отчеты](https://drive.google.com/drive/folders/1athn52a93obOwfuHynDCRPRhjAPB80aO?usp=sharing)"
      ]
    },
    {
      "cell_type": "markdown",
      "metadata": {
        "id": "5l0a7C6JHe40"
      },
      "source": [
        "# Установка FastQC"
      ]
    },
    {
      "cell_type": "code",
      "execution_count": 3,
      "metadata": {
        "colab": {
          "base_uri": "https://localhost:8080/"
        },
        "id": "esYQuHKO8nAg",
        "outputId": "2c33c3ee-1482-43c9-a2e2-8965c2d0e1ef"
      },
      "outputs": [
        {
          "output_type": "stream",
          "name": "stdout",
          "text": [
            "--2024-02-11 18:45:50--  https://www.bioinformatics.babraham.ac.uk/projects/fastqc/fastqc_v0.11.9.zip\n",
            "Resolving www.bioinformatics.babraham.ac.uk (www.bioinformatics.babraham.ac.uk)... 149.155.133.4\n",
            "Connecting to www.bioinformatics.babraham.ac.uk (www.bioinformatics.babraham.ac.uk)|149.155.133.4|:443... connected.\n",
            "HTTP request sent, awaiting response... 200 OK\n",
            "Length: 10249221 (9.8M) [application/zip]\n",
            "Saving to: ‘fastqc_v0.11.9.zip.1’\n",
            "\n",
            "fastqc_v0.11.9.zip. 100%[===================>]   9.77M  10.3MB/s    in 0.9s    \n",
            "\n",
            "2024-02-11 18:45:52 (10.3 MB/s) - ‘fastqc_v0.11.9.zip.1’ saved [10249221/10249221]\n",
            "\n",
            "Archive:  fastqc_v0.11.9.zip\n",
            "  inflating: FastQC/cisd-jhdf5.jar   \n",
            "   creating: FastQC/Configuration/\n",
            "  inflating: FastQC/Configuration/adapter_list.txt  \n",
            "  inflating: FastQC/Configuration/contaminant_list.txt  \n",
            "  inflating: FastQC/Configuration/limits.txt  \n",
            "  inflating: FastQC/fastqc           \n",
            "  inflating: FastQC/fastqc_icon.ico  \n",
            "   creating: FastQC/Help/\n",
            "   creating: FastQC/Help/1 Introduction/\n",
            "   creating: FastQC/Help/1 Introduction/.svn/\n",
            "  inflating: FastQC/Help/1 Introduction/.svn/entries  \n",
            "   creating: FastQC/Help/1 Introduction/.svn/props/\n",
            "   creating: FastQC/Help/1 Introduction/.svn/text-base/\n",
            "  inflating: FastQC/Help/1 Introduction/.svn/text-base/1.1 What is FastQC.html.svn-base  \n",
            "   creating: FastQC/Help/1 Introduction/.svn/tmp/\n",
            "   creating: FastQC/Help/1 Introduction/.svn/tmp/props/\n",
            "  inflating: FastQC/Help/1 Introduction/1.1 What is FastQC.html  \n",
            "   creating: FastQC/Help/2 Basic Operations/\n",
            "   creating: FastQC/Help/2 Basic Operations/.svn/\n",
            "  inflating: FastQC/Help/2 Basic Operations/.svn/entries  \n",
            "   creating: FastQC/Help/2 Basic Operations/.svn/props/\n",
            "   creating: FastQC/Help/2 Basic Operations/.svn/text-base/\n",
            "  inflating: FastQC/Help/2 Basic Operations/.svn/text-base/2.1 Opening a sequence file.html.svn-base  \n",
            "  inflating: FastQC/Help/2 Basic Operations/.svn/text-base/2.2 Evaluating Results.html.svn-base  \n",
            "  inflating: FastQC/Help/2 Basic Operations/.svn/text-base/2.3 Saving a Report.html.svn-base  \n",
            "   creating: FastQC/Help/2 Basic Operations/.svn/tmp/\n",
            "   creating: FastQC/Help/2 Basic Operations/.svn/tmp/props/\n",
            "  inflating: FastQC/Help/2 Basic Operations/2.1 Opening a sequence file.html  \n",
            "  inflating: FastQC/Help/2 Basic Operations/2.2 Evaluating Results.html  \n",
            "  inflating: FastQC/Help/2 Basic Operations/2.3 Saving a Report.html  \n",
            "   creating: FastQC/Help/3 Analysis Modules/\n",
            "   creating: FastQC/Help/3 Analysis Modules/.svn/\n",
            "  inflating: FastQC/Help/3 Analysis Modules/.svn/entries  \n",
            "   creating: FastQC/Help/3 Analysis Modules/.svn/prop-base/\n",
            " extracting: FastQC/Help/3 Analysis Modules/.svn/prop-base/duplication_levels.png.svn-base  \n",
            "  inflating: FastQC/Help/3 Analysis Modules/.svn/prop-base/kmer_profiles.png.svn-base  \n",
            " extracting: FastQC/Help/3 Analysis Modules/.svn/prop-base/per_base_gc_content.png.svn-base  \n",
            " extracting: FastQC/Help/3 Analysis Modules/.svn/prop-base/per_base_n_content.png.svn-base  \n",
            " extracting: FastQC/Help/3 Analysis Modules/.svn/prop-base/per_base_quality.png.svn-base  \n",
            " extracting: FastQC/Help/3 Analysis Modules/.svn/prop-base/per_base_sequence_content.png.svn-base  \n",
            " extracting: FastQC/Help/3 Analysis Modules/.svn/prop-base/per_sequence_gc_content.png.svn-base  \n",
            " extracting: FastQC/Help/3 Analysis Modules/.svn/prop-base/per_sequence_quality.png.svn-base  \n",
            " extracting: FastQC/Help/3 Analysis Modules/.svn/prop-base/per_tile_quality.png.svn-base  \n",
            " extracting: FastQC/Help/3 Analysis Modules/.svn/prop-base/sequence_length_distribution.png.svn-base  \n",
            "   creating: FastQC/Help/3 Analysis Modules/.svn/props/\n",
            "   creating: FastQC/Help/3 Analysis Modules/.svn/text-base/\n",
            "  inflating: FastQC/Help/3 Analysis Modules/.svn/text-base/1 Basic Statistics.html.svn-base  \n",
            "  inflating: FastQC/Help/3 Analysis Modules/.svn/text-base/10 Adapter Content.html.svn-base  \n",
            "  inflating: FastQC/Help/3 Analysis Modules/.svn/text-base/11 Kmer Content.html.svn-base  \n",
            "  inflating: FastQC/Help/3 Analysis Modules/.svn/text-base/12 Per Tile Sequence Quality.html.svn-base  \n",
            "  inflating: FastQC/Help/3 Analysis Modules/.svn/text-base/2 Per Base Sequence Quality.html.svn-base  \n",
            "  inflating: FastQC/Help/3 Analysis Modules/.svn/text-base/3 Per Sequence Quality Scores.html.svn-base  \n",
            "  inflating: FastQC/Help/3 Analysis Modules/.svn/text-base/4 Per Base Sequence Content.html.svn-base  \n",
            "  inflating: FastQC/Help/3 Analysis Modules/.svn/text-base/5 Per Sequence GC Content.html.svn-base  \n",
            "  inflating: FastQC/Help/3 Analysis Modules/.svn/text-base/6 Per Base N Content.html.svn-base  \n",
            "  inflating: FastQC/Help/3 Analysis Modules/.svn/text-base/7 Sequence Length Distribution.html.svn-base  \n",
            "  inflating: FastQC/Help/3 Analysis Modules/.svn/text-base/8 Duplicate Sequences.html.svn-base  \n",
            "  inflating: FastQC/Help/3 Analysis Modules/.svn/text-base/9 Overrepresented Sequences.html.svn-base  \n",
            "  inflating: FastQC/Help/3 Analysis Modules/.svn/text-base/duplication_levels.png.svn-base  \n",
            "  inflating: FastQC/Help/3 Analysis Modules/.svn/text-base/kmer_profiles.png.svn-base  \n",
            "  inflating: FastQC/Help/3 Analysis Modules/.svn/text-base/per_base_gc_content.png.svn-base  \n",
            "  inflating: FastQC/Help/3 Analysis Modules/.svn/text-base/per_base_n_content.png.svn-base  \n",
            "  inflating: FastQC/Help/3 Analysis Modules/.svn/text-base/per_base_quality.png.svn-base  \n",
            "  inflating: FastQC/Help/3 Analysis Modules/.svn/text-base/per_base_sequence_content.png.svn-base  \n",
            "  inflating: FastQC/Help/3 Analysis Modules/.svn/text-base/per_sequence_gc_content.png.svn-base  \n",
            "  inflating: FastQC/Help/3 Analysis Modules/.svn/text-base/per_sequence_quality.png.svn-base  \n",
            "  inflating: FastQC/Help/3 Analysis Modules/.svn/text-base/per_tile_quality.png.svn-base  \n",
            "  inflating: FastQC/Help/3 Analysis Modules/.svn/text-base/sequence_length_distribution.png.svn-base  \n",
            "   creating: FastQC/Help/3 Analysis Modules/.svn/tmp/\n",
            "   creating: FastQC/Help/3 Analysis Modules/.svn/tmp/props/\n",
            "  inflating: FastQC/Help/3 Analysis Modules/1 Basic Statistics.html  \n",
            "  inflating: FastQC/Help/3 Analysis Modules/10 Adapter Content.html  \n",
            "  inflating: FastQC/Help/3 Analysis Modules/11 Kmer Content.html  \n",
            "  inflating: FastQC/Help/3 Analysis Modules/12 Per Tile Sequence Quality.html  \n",
            "  inflating: FastQC/Help/3 Analysis Modules/2 Per Base Sequence Quality.html  \n",
            "  inflating: FastQC/Help/3 Analysis Modules/3 Per Sequence Quality Scores.html  \n",
            "  inflating: FastQC/Help/3 Analysis Modules/4 Per Base Sequence Content.html  \n",
            "  inflating: FastQC/Help/3 Analysis Modules/5 Per Sequence GC Content.html  \n",
            "  inflating: FastQC/Help/3 Analysis Modules/6 Per Base N Content.html  \n",
            "  inflating: FastQC/Help/3 Analysis Modules/7 Sequence Length Distribution.html  \n",
            "  inflating: FastQC/Help/3 Analysis Modules/8 Duplicate Sequences.html  \n",
            "  inflating: FastQC/Help/3 Analysis Modules/9 Overrepresented Sequences.html  \n",
            "  inflating: FastQC/Help/3 Analysis Modules/duplication_levels.png  \n",
            "  inflating: FastQC/Help/3 Analysis Modules/kmer_profiles.png  \n",
            "  inflating: FastQC/Help/3 Analysis Modules/per_base_gc_content.png  \n",
            "  inflating: FastQC/Help/3 Analysis Modules/per_base_n_content.png  \n",
            "  inflating: FastQC/Help/3 Analysis Modules/per_base_quality.png  \n",
            "  inflating: FastQC/Help/3 Analysis Modules/per_base_sequence_content.png  \n",
            "  inflating: FastQC/Help/3 Analysis Modules/per_sequence_gc_content.png  \n",
            "  inflating: FastQC/Help/3 Analysis Modules/per_sequence_quality.png  \n",
            "  inflating: FastQC/Help/3 Analysis Modules/per_tile_quality.png  \n",
            "  inflating: FastQC/Help/3 Analysis Modules/sequence_length_distribution.png  \n",
            "  inflating: FastQC/INSTALL.txt      \n",
            "  inflating: FastQC/jbzip2-0.9.jar   \n",
            "  inflating: FastQC/LICENSE          \n",
            "  inflating: FastQC/LICENSE.txt      \n",
            "  inflating: FastQC/LICENSE_JHDF5.txt  \n",
            "   creating: FastQC/net/\n",
            "   creating: FastQC/net/sourceforge/\n",
            "   creating: FastQC/net/sourceforge/iharder/\n",
            "   creating: FastQC/net/sourceforge/iharder/base64/\n",
            "  inflating: FastQC/net/sourceforge/iharder/base64/Base64$1.class  \n",
            "  inflating: FastQC/net/sourceforge/iharder/base64/Base64$InputStream.class  \n",
            "  inflating: FastQC/net/sourceforge/iharder/base64/Base64$OutputStream.class  \n",
            "  inflating: FastQC/net/sourceforge/iharder/base64/Base64.class  \n",
            "   creating: FastQC/org/\n",
            "   creating: FastQC/org/apache/\n",
            "   creating: FastQC/org/apache/commons/\n",
            "   creating: FastQC/org/apache/commons/math3/\n",
            "   creating: FastQC/org/apache/commons/math3/analysis/\n",
            "   creating: FastQC/org/apache/commons/math3/analysis/solvers/\n",
            "  inflating: FastQC/org/apache/commons/math3/analysis/solvers/AbstractUnivariateSolver.class  \n",
            "  inflating: FastQC/org/apache/commons/math3/analysis/solvers/AllowedSolution.class  \n",
            "  inflating: FastQC/org/apache/commons/math3/analysis/solvers/BaseAbstractUnivariateSolver.class  \n",
            "  inflating: FastQC/org/apache/commons/math3/analysis/solvers/BaseUnivariateSolver.class  \n",
            "  inflating: FastQC/org/apache/commons/math3/analysis/solvers/BracketedUnivariateSolver.class  \n",
            "  inflating: FastQC/org/apache/commons/math3/analysis/solvers/BrentSolver.class  \n",
            "  inflating: FastQC/org/apache/commons/math3/analysis/solvers/UnivariateSolver.class  \n",
            "  inflating: FastQC/org/apache/commons/math3/analysis/solvers/UnivariateSolverUtils.class  \n",
            "  inflating: FastQC/org/apache/commons/math3/analysis/UnivariateFunction.class  \n",
            "   creating: FastQC/org/apache/commons/math3/distribution/\n",
            "  inflating: FastQC/org/apache/commons/math3/distribution/AbstractIntegerDistribution.class  \n",
            "  inflating: FastQC/org/apache/commons/math3/distribution/AbstractRealDistribution$1.class  \n",
            "  inflating: FastQC/org/apache/commons/math3/distribution/AbstractRealDistribution.class  \n",
            "  inflating: FastQC/org/apache/commons/math3/distribution/BetaDistribution.class  \n",
            "  inflating: FastQC/org/apache/commons/math3/distribution/BinomialDistribution.class  \n",
            "  inflating: FastQC/org/apache/commons/math3/distribution/CauchyDistribution.class  \n",
            "  inflating: FastQC/org/apache/commons/math3/distribution/ChiSquaredDistribution.class  \n",
            "  inflating: FastQC/org/apache/commons/math3/distribution/FDistribution.class  \n",
            "  inflating: FastQC/org/apache/commons/math3/distribution/GammaDistribution.class  \n",
            "  inflating: FastQC/org/apache/commons/math3/distribution/HypergeometricDistribution.class  \n",
            "  inflating: FastQC/org/apache/commons/math3/distribution/IntegerDistribution.class  \n",
            "  inflating: FastQC/org/apache/commons/math3/distribution/NormalDistribution.class  \n",
            "  inflating: FastQC/org/apache/commons/math3/distribution/PascalDistribution.class  \n",
            "  inflating: FastQC/org/apache/commons/math3/distribution/PoissonDistribution.class  \n",
            "  inflating: FastQC/org/apache/commons/math3/distribution/RealDistribution.class  \n",
            "  inflating: FastQC/org/apache/commons/math3/distribution/SaddlePointExpansion.class  \n",
            "  inflating: FastQC/org/apache/commons/math3/distribution/TDistribution.class  \n",
            "  inflating: FastQC/org/apache/commons/math3/distribution/WeibullDistribution.class  \n",
            "  inflating: FastQC/org/apache/commons/math3/distribution/ZipfDistribution.class  \n",
            "   creating: FastQC/org/apache/commons/math3/exception/\n",
            "  inflating: FastQC/org/apache/commons/math3/exception/ConvergenceException.class  \n",
            "  inflating: FastQC/org/apache/commons/math3/exception/DimensionMismatchException.class  \n",
            "  inflating: FastQC/org/apache/commons/math3/exception/MathArithmeticException.class  \n",
            "  inflating: FastQC/org/apache/commons/math3/exception/MathIllegalArgumentException.class  \n",
            "  inflating: FastQC/org/apache/commons/math3/exception/MathIllegalNumberException.class  \n",
            "  inflating: FastQC/org/apache/commons/math3/exception/MathIllegalStateException.class  \n",
            "  inflating: FastQC/org/apache/commons/math3/exception/MathInternalError.class  \n",
            "  inflating: FastQC/org/apache/commons/math3/exception/MaxCountExceededException.class  \n",
            "  inflating: FastQC/org/apache/commons/math3/exception/NoBracketingException.class  \n",
            "  inflating: FastQC/org/apache/commons/math3/exception/NotFiniteNumberException.class  \n",
            "  inflating: FastQC/org/apache/commons/math3/exception/NotPositiveException.class  \n",
            "  inflating: FastQC/org/apache/commons/math3/exception/NotStrictlyPositiveException.class  \n",
            "  inflating: FastQC/org/apache/commons/math3/exception/NullArgumentException.class  \n",
            "  inflating: FastQC/org/apache/commons/math3/exception/NumberIsTooLargeException.class  \n",
            "  inflating: FastQC/org/apache/commons/math3/exception/NumberIsTooSmallException.class  \n",
            "  inflating: FastQC/org/apache/commons/math3/exception/OutOfRangeException.class  \n",
            "  inflating: FastQC/org/apache/commons/math3/exception/TooManyEvaluationsException.class  \n",
            "   creating: FastQC/org/apache/commons/math3/exception/util/\n",
            "  inflating: FastQC/org/apache/commons/math3/exception/util/ArgUtils.class  \n",
            "  inflating: FastQC/org/apache/commons/math3/exception/util/ExceptionContext.class  \n",
            "  inflating: FastQC/org/apache/commons/math3/exception/util/ExceptionContextProvider.class  \n",
            "  inflating: FastQC/org/apache/commons/math3/exception/util/Localizable.class  \n",
            "  inflating: FastQC/org/apache/commons/math3/exception/util/LocalizedFormats.class  \n",
            "   creating: FastQC/org/apache/commons/math3/random/\n",
            "  inflating: FastQC/org/apache/commons/math3/random/AbstractWell.class  \n",
            "  inflating: FastQC/org/apache/commons/math3/random/BitsStreamGenerator.class  \n",
            "  inflating: FastQC/org/apache/commons/math3/random/RandomData.class  \n",
            "  inflating: FastQC/org/apache/commons/math3/random/RandomDataImpl.class  \n",
            "  inflating: FastQC/org/apache/commons/math3/random/RandomGenerator.class  \n",
            "  inflating: FastQC/org/apache/commons/math3/random/Well19937c.class  \n",
            "   creating: FastQC/org/apache/commons/math3/special/\n",
            "  inflating: FastQC/org/apache/commons/math3/special/Beta$1.class  \n",
            "  inflating: FastQC/org/apache/commons/math3/special/Beta.class  \n",
            "  inflating: FastQC/org/apache/commons/math3/special/Erf.class  \n",
            "  inflating: FastQC/org/apache/commons/math3/special/Gamma$1.class  \n",
            "  inflating: FastQC/org/apache/commons/math3/special/Gamma.class  \n",
            "   creating: FastQC/org/apache/commons/math3/util/\n",
            "  inflating: FastQC/org/apache/commons/math3/util/ArithmeticUtils.class  \n",
            "  inflating: FastQC/org/apache/commons/math3/util/ContinuedFraction.class  \n",
            "  inflating: FastQC/org/apache/commons/math3/util/DoubleArray.class  \n",
            "  inflating: FastQC/org/apache/commons/math3/util/FastMath$ExpFracTable.class  \n",
            "  inflating: FastQC/org/apache/commons/math3/util/FastMath$ExpIntTable.class  \n",
            "  inflating: FastQC/org/apache/commons/math3/util/FastMath$lnMant.class  \n",
            "  inflating: FastQC/org/apache/commons/math3/util/FastMath.class  \n",
            "  inflating: FastQC/org/apache/commons/math3/util/FastMathCalc.class  \n",
            "  inflating: FastQC/org/apache/commons/math3/util/FastMathLiteralArrays.class  \n",
            "  inflating: FastQC/org/apache/commons/math3/util/Incrementor$1.class  \n",
            "  inflating: FastQC/org/apache/commons/math3/util/Incrementor$MaxCountExceededCallback.class  \n",
            "  inflating: FastQC/org/apache/commons/math3/util/Incrementor.class  \n",
            "  inflating: FastQC/org/apache/commons/math3/util/MathUtils.class  \n",
            "  inflating: FastQC/org/apache/commons/math3/util/Precision.class  \n",
            "  inflating: FastQC/org/apache/commons/math3/util/ResizableDoubleArray.class  \n",
            "  inflating: FastQC/README.md        \n",
            "  inflating: FastQC/README.txt       \n",
            "  inflating: FastQC/RELEASE_NOTES.txt  \n",
            "  inflating: FastQC/run_fastqc.bat   \n",
            "  inflating: FastQC/sam-1.103.jar    \n",
            "   creating: FastQC/Templates/\n",
            "  inflating: FastQC/Templates/fastqc2fo.xsl  \n",
            "  inflating: FastQC/Templates/header_template.html  \n",
            "   creating: FastQC/Templates/Icons/\n",
            " extracting: FastQC/Templates/Icons/error.png  \n",
            " extracting: FastQC/Templates/Icons/fastqc_icon.png  \n",
            " extracting: FastQC/Templates/Icons/tick.png  \n",
            " extracting: FastQC/Templates/Icons/warning.png  \n",
            "   creating: FastQC/uk/\n",
            "   creating: FastQC/uk/ac/\n",
            "   creating: FastQC/uk/ac/babraham/\n",
            "   creating: FastQC/uk/ac/babraham/FastQC/\n",
            "   creating: FastQC/uk/ac/babraham/FastQC/Analysis/\n",
            "  inflating: FastQC/uk/ac/babraham/FastQC/Analysis/AnalysisListener.class  \n",
            "  inflating: FastQC/uk/ac/babraham/FastQC/Analysis/AnalysisQueue.class  \n",
            "  inflating: FastQC/uk/ac/babraham/FastQC/Analysis/AnalysisRunner.class  \n",
            "  inflating: FastQC/uk/ac/babraham/FastQC/Analysis/OfflineRunner.class  \n",
            "   creating: FastQC/uk/ac/babraham/FastQC/Dialogs/\n",
            "  inflating: FastQC/uk/ac/babraham/FastQC/Dialogs/AboutDialog$1.class  \n",
            "  inflating: FastQC/uk/ac/babraham/FastQC/Dialogs/AboutDialog.class  \n",
            "  inflating: FastQC/uk/ac/babraham/FastQC/Dialogs/FastQCTitlePanel$SmoothJLabel.class  \n",
            "  inflating: FastQC/uk/ac/babraham/FastQC/Dialogs/FastQCTitlePanel.class  \n",
            "  inflating: FastQC/uk/ac/babraham/FastQC/Dialogs/WelcomePanel.class  \n",
            "  inflating: FastQC/uk/ac/babraham/FastQC/FastQCApplication$1.class  \n",
            "  inflating: FastQC/uk/ac/babraham/FastQC/FastQCApplication.class  \n",
            "  inflating: FastQC/uk/ac/babraham/FastQC/FastQCConfig.class  \n",
            "  inflating: FastQC/uk/ac/babraham/FastQC/FastQCMenuBar.class  \n",
            "   creating: FastQC/uk/ac/babraham/FastQC/FileFilters/\n",
            "  inflating: FastQC/uk/ac/babraham/FastQC/FileFilters/BAMFileFilter.class  \n",
            "  inflating: FastQC/uk/ac/babraham/FastQC/FileFilters/CasavaFastQFileFilter.class  \n",
            "  inflating: FastQC/uk/ac/babraham/FastQC/FileFilters/FastQFileFilter.class  \n",
            "  inflating: FastQC/uk/ac/babraham/FastQC/FileFilters/GobyFileFilter.class  \n",
            "  inflating: FastQC/uk/ac/babraham/FastQC/FileFilters/MappedBAMFileFilter.class  \n",
            "  inflating: FastQC/uk/ac/babraham/FastQC/FileFilters/SequenceFileFilter.class  \n",
            "   creating: FastQC/uk/ac/babraham/FastQC/Graphs/\n",
            "  inflating: FastQC/uk/ac/babraham/FastQC/Graphs/BaseGroup.class  \n",
            "  inflating: FastQC/uk/ac/babraham/FastQC/Graphs/LineGraph.class  \n",
            "  inflating: FastQC/uk/ac/babraham/FastQC/Graphs/QualityBoxPlot.class  \n",
            "  inflating: FastQC/uk/ac/babraham/FastQC/Graphs/TileGraph.class  \n",
            "   creating: FastQC/uk/ac/babraham/FastQC/Help/\n",
            "  inflating: FastQC/uk/ac/babraham/FastQC/Help/HelpDialog.class  \n",
            "  inflating: FastQC/uk/ac/babraham/FastQC/Help/HelpIndexRoot$FileSorter.class  \n",
            "  inflating: FastQC/uk/ac/babraham/FastQC/Help/HelpIndexRoot.class  \n",
            "  inflating: FastQC/uk/ac/babraham/FastQC/Help/HelpPage.class  \n",
            "  inflating: FastQC/uk/ac/babraham/FastQC/Help/HelpPageDisplay$HelpEditor.class  \n",
            "  inflating: FastQC/uk/ac/babraham/FastQC/Help/HelpPageDisplay.class  \n",
            "  inflating: FastQC/uk/ac/babraham/FastQC/Help/HelpSearchPanel.class  \n",
            "   creating: FastQC/uk/ac/babraham/FastQC/Modules/\n",
            "  inflating: FastQC/uk/ac/babraham/FastQC/Modules/AbstractQCModule.class  \n",
            "  inflating: FastQC/uk/ac/babraham/FastQC/Modules/AdapterContent$Adapter.class  \n",
            "  inflating: FastQC/uk/ac/babraham/FastQC/Modules/AdapterContent$ResultsTable.class  \n",
            "  inflating: FastQC/uk/ac/babraham/FastQC/Modules/AdapterContent.class  \n",
            "  inflating: FastQC/uk/ac/babraham/FastQC/Modules/BasicStats$ResultsTable.class  \n",
            "  inflating: FastQC/uk/ac/babraham/FastQC/Modules/BasicStats.class  \n",
            "  inflating: FastQC/uk/ac/babraham/FastQC/Modules/DuplicationLevel.class  \n",
            "   creating: FastQC/uk/ac/babraham/FastQC/Modules/GCModel/\n",
            "  inflating: FastQC/uk/ac/babraham/FastQC/Modules/GCModel/GCModel.class  \n",
            "  inflating: FastQC/uk/ac/babraham/FastQC/Modules/GCModel/GCModelValue.class  \n",
            "  inflating: FastQC/uk/ac/babraham/FastQC/Modules/KmerContent$Kmer.class  \n",
            "  inflating: FastQC/uk/ac/babraham/FastQC/Modules/KmerContent$ResultsTable.class  \n",
            "  inflating: FastQC/uk/ac/babraham/FastQC/Modules/KmerContent.class  \n",
            "  inflating: FastQC/uk/ac/babraham/FastQC/Modules/ModuleConfig.class  \n",
            "  inflating: FastQC/uk/ac/babraham/FastQC/Modules/ModuleFactory.class  \n",
            "  inflating: FastQC/uk/ac/babraham/FastQC/Modules/NContent.class  \n",
            "  inflating: FastQC/uk/ac/babraham/FastQC/Modules/OverRepresentedSeqs$OverrepresentedSeq.class  \n",
            "  inflating: FastQC/uk/ac/babraham/FastQC/Modules/OverRepresentedSeqs$ResultsTable.class  \n",
            "  inflating: FastQC/uk/ac/babraham/FastQC/Modules/OverRepresentedSeqs.class  \n",
            "  inflating: FastQC/uk/ac/babraham/FastQC/Modules/PerBaseQualityScores.class  \n",
            "  inflating: FastQC/uk/ac/babraham/FastQC/Modules/PerBaseSequenceContent.class  \n",
            "  inflating: FastQC/uk/ac/babraham/FastQC/Modules/PerSequenceGCContent.class  \n",
            "  inflating: FastQC/uk/ac/babraham/FastQC/Modules/PerSequenceQualityScores.class  \n",
            "  inflating: FastQC/uk/ac/babraham/FastQC/Modules/PerTileQualityScores.class  \n",
            "  inflating: FastQC/uk/ac/babraham/FastQC/Modules/QCModule.class  \n",
            "  inflating: FastQC/uk/ac/babraham/FastQC/Modules/SequenceLengthDistribution.class  \n",
            "   creating: FastQC/uk/ac/babraham/FastQC/Report/\n",
            "  inflating: FastQC/uk/ac/babraham/FastQC/Report/HTMLReportArchive.class  \n",
            "  inflating: FastQC/uk/ac/babraham/FastQC/Report/stylesheet.txt  \n",
            "   creating: FastQC/uk/ac/babraham/FastQC/Resources/\n",
            " extracting: FastQC/uk/ac/babraham/FastQC/Resources/error.png  \n",
            " extracting: FastQC/uk/ac/babraham/FastQC/Resources/fastqc_icon.png  \n",
            "  inflating: FastQC/uk/ac/babraham/FastQC/Resources/fastqc_icon.svg  \n",
            " extracting: FastQC/uk/ac/babraham/FastQC/Resources/fastqc_icon_100.png  \n",
            " extracting: FastQC/uk/ac/babraham/FastQC/Resources/tick.png  \n",
            " extracting: FastQC/uk/ac/babraham/FastQC/Resources/warning.png  \n",
            "   creating: FastQC/uk/ac/babraham/FastQC/Results/\n",
            "  inflating: FastQC/uk/ac/babraham/FastQC/Results/ResultsPanel$ModuleRenderer.class  \n",
            "  inflating: FastQC/uk/ac/babraham/FastQC/Results/ResultsPanel.class  \n",
            "   creating: FastQC/uk/ac/babraham/FastQC/Sequence/\n",
            "  inflating: FastQC/uk/ac/babraham/FastQC/Sequence/BAMFile.class  \n",
            "   creating: FastQC/uk/ac/babraham/FastQC/Sequence/Contaminant/\n",
            "  inflating: FastQC/uk/ac/babraham/FastQC/Sequence/Contaminant/Contaminant.class  \n",
            "  inflating: FastQC/uk/ac/babraham/FastQC/Sequence/Contaminant/ContaminantHit.class  \n",
            "  inflating: FastQC/uk/ac/babraham/FastQC/Sequence/Contaminant/ContaminentFinder.class  \n",
            "  inflating: FastQC/uk/ac/babraham/FastQC/Sequence/Fast5File.class  \n",
            "  inflating: FastQC/uk/ac/babraham/FastQC/Sequence/FastQFile.class  \n",
            "   creating: FastQC/uk/ac/babraham/FastQC/Sequence/QualityEncoding/\n",
            "  inflating: FastQC/uk/ac/babraham/FastQC/Sequence/QualityEncoding/PhredEncoding.class  \n",
            "  inflating: FastQC/uk/ac/babraham/FastQC/Sequence/Sequence.class  \n",
            "  inflating: FastQC/uk/ac/babraham/FastQC/Sequence/SequenceFactory.class  \n",
            "  inflating: FastQC/uk/ac/babraham/FastQC/Sequence/SequenceFile.class  \n",
            "  inflating: FastQC/uk/ac/babraham/FastQC/Sequence/SequenceFileGroup.class  \n",
            "  inflating: FastQC/uk/ac/babraham/FastQC/Sequence/SequenceFormatException.class  \n",
            "   creating: FastQC/uk/ac/babraham/FastQC/Statistics/\n",
            "  inflating: FastQC/uk/ac/babraham/FastQC/Statistics/NormalDistribution.class  \n",
            "  inflating: FastQC/uk/ac/babraham/FastQC/Statistics/PearsonCorrelation.class  \n",
            "   creating: FastQC/uk/ac/babraham/FastQC/Utilities/\n",
            "  inflating: FastQC/uk/ac/babraham/FastQC/Utilities/CasavaBasename.class  \n",
            "  inflating: FastQC/uk/ac/babraham/FastQC/Utilities/HotColdColourGradient.class  \n",
            "  inflating: FastQC/uk/ac/babraham/FastQC/Utilities/ImageToBase64.class  \n",
            "  inflating: FastQC/uk/ac/babraham/FastQC/Utilities/MultiMemberGZIPInputStream.class  \n",
            "  inflating: FastQC/uk/ac/babraham/FastQC/Utilities/NameFormatException.class  \n",
            "  inflating: FastQC/uk/ac/babraham/FastQC/Utilities/NanoporeBasename.class  \n",
            "  inflating: FastQC/uk/ac/babraham/FastQC/Utilities/QualityCount.class  \n",
            "  inflating: FastQC/uk/ac/babraham/FastQC/Utilities/RGB.class  \n"
          ]
        }
      ],
      "source": [
        "!wget https://www.bioinformatics.babraham.ac.uk/projects/fastqc/fastqc_v0.11.9.zip\n",
        "!unzip fastqc_v0.11.9.zip\n",
        "!chmod a+x FastQC/fastqc"
      ]
    },
    {
      "cell_type": "markdown",
      "metadata": {
        "id": "_zEx3USYPKoR"
      },
      "source": [
        "Можно получать данные секвенировия с ENA. Например, https://www.ebi.ac.uk/ena/browser/view/SRR5836473"
      ]
    },
    {
      "cell_type": "code",
      "execution_count": 4,
      "metadata": {
        "id": "c5QMGKJYxrza",
        "colab": {
          "base_uri": "https://localhost:8080/"
        },
        "outputId": "4bb21805-38df-492a-b9f2-5dacd1c027ae"
      },
      "outputs": [
        {
          "output_type": "stream",
          "name": "stdout",
          "text": [
            "--2024-02-11 18:45:52--  ftp://ftp.sra.ebi.ac.uk/vol1/fastq/SRR583/003/SRR5836473/SRR5836473_1.fastq.gz\n",
            "           => ‘SRR5836473_1.fastq.gz’\n",
            "Resolving ftp.sra.ebi.ac.uk (ftp.sra.ebi.ac.uk)... 193.62.193.165\n",
            "Connecting to ftp.sra.ebi.ac.uk (ftp.sra.ebi.ac.uk)|193.62.193.165|:21... connected.\n",
            "Logging in as anonymous ... Logged in!\n",
            "==> SYST ... done.    ==> PWD ... done.\n",
            "==> TYPE I ... done.  ==> CWD (1) /vol1/fastq/SRR583/003/SRR5836473 ... done.\n",
            "==> SIZE SRR5836473_1.fastq.gz ... 6856386252\n",
            "==> PASV ... done.    ==> RETR SRR5836473_1.fastq.gz ... done.\n",
            "Length: 6856386252 (6.4G) (unauthoritative)\n",
            "\n",
            "SRR5836473_1.fastq.   0%[                    ]   8.38M   263KB/s    eta 7h 47m ^C\n",
            "\n",
            "gzip: SRR5836473_1.fastq.gz: unexpected end of file\n",
            "./FastQC/fastqc SRR5836473_1_fastqc.html\n",
            "./FastQC/fastqc SRR5836473_1_fastqc.zip\n",
            "Failed to process SRR5836473_1_fastqc.zip\n",
            "uk.ac.babraham.FastQC.Sequence.SequenceFormatException: ID line didn't start with '@'\n",
            "\tat uk.ac.babraham.FastQC.Sequence.FastQFile.readNext(FastQFile.java:158)\n",
            "\tat uk.ac.babraham.FastQC.Sequence.FastQFile.<init>(FastQFile.java:89)\n",
            "\tat uk.ac.babraham.FastQC.Sequence.SequenceFactory.getSequenceFile(SequenceFactory.java:106)\n",
            "\tat uk.ac.babraham.FastQC.Sequence.SequenceFactory.getSequenceFile(SequenceFactory.java:62)\n",
            "\tat uk.ac.babraham.FastQC.Analysis.OfflineRunner.processFile(OfflineRunner.java:159)\n",
            "\tat uk.ac.babraham.FastQC.Analysis.OfflineRunner.<init>(OfflineRunner.java:121)\n",
            "\tat uk.ac.babraham.FastQC.FastQCApplication.main(FastQCApplication.java:316)\n",
            "./FastQC/fastqc SRR5836473_1.fastq.gz\n",
            "Failed to process SRR5836473_1_fastqc.html\n",
            "uk.ac.babraham.FastQC.Sequence.SequenceFormatException: ID line didn't start with '@'\n",
            "\tat uk.ac.babraham.FastQC.Sequence.FastQFile.readNext(FastQFile.java:158)\n",
            "\tat uk.ac.babraham.FastQC.Sequence.FastQFile.<init>(FastQFile.java:89)\n",
            "\tat uk.ac.babraham.FastQC.Sequence.SequenceFactory.getSequenceFile(SequenceFactory.java:106)\n",
            "\tat uk.ac.babraham.FastQC.Sequence.SequenceFactory.getSequenceFile(SequenceFactory.java:62)\n",
            "\tat uk.ac.babraham.FastQC.Analysis.OfflineRunner.processFile(OfflineRunner.java:159)\n",
            "\tat uk.ac.babraham.FastQC.Analysis.OfflineRunner.<init>(OfflineRunner.java:121)\n",
            "\tat uk.ac.babraham.FastQC.FastQCApplication.main(FastQCApplication.java:316)\n",
            "./FastQC/fastqc SRR5836473_2_fastqc.html\n",
            "Failed to process SRR5836473_2_fastqc.html\n",
            "uk.ac.babraham.FastQC.Sequence.SequenceFormatException: ID line didn't start with '@'\n",
            "\tat uk.ac.babraham.FastQC.Sequence.FastQFile.readNext(FastQFile.java:158)\n",
            "\tat uk.ac.babraham.FastQC.Sequence.FastQFile.<init>(FastQFile.java:89)\n",
            "\tat uk.ac.babraham.FastQC.Sequence.SequenceFactory.getSequenceFile(SequenceFactory.java:106)\n",
            "\tat uk.ac.babraham.FastQC.Sequence.SequenceFactory.getSequenceFile(SequenceFactory.java:62)\n",
            "\tat uk.ac.babraham.FastQC.Analysis.OfflineRunner.processFile(OfflineRunner.java:159)\n",
            "\tat uk.ac.babraham.FastQC.Analysis.OfflineRunner.<init>(OfflineRunner.java:121)\n",
            "\tat uk.ac.babraham.FastQC.FastQCApplication.main(FastQCApplication.java:316)\n",
            "./FastQC/fastqc SRR5836473_2_fastqc.zip\n",
            "Failed to process SRR5836473_2_fastqc.zip\n",
            "uk.ac.babraham.FastQC.Sequence.SequenceFormatException: ID line didn't start with '@'\n",
            "\tat uk.ac.babraham.FastQC.Sequence.FastQFile.readNext(FastQFile.java:158)\n",
            "\tat uk.ac.babraham.FastQC.Sequence.FastQFile.<init>(FastQFile.java:89)\n",
            "\tat uk.ac.babraham.FastQC.Sequence.SequenceFactory.getSequenceFile(SequenceFactory.java:106)\n",
            "\tat uk.ac.babraham.FastQC.Sequence.SequenceFactory.getSequenceFile(SequenceFactory.java:62)\n",
            "\tat uk.ac.babraham.FastQC.Analysis.OfflineRunner.processFile(OfflineRunner.java:159)\n",
            "\tat uk.ac.babraham.FastQC.Analysis.OfflineRunner.<init>(OfflineRunner.java:121)\n",
            "\tat uk.ac.babraham.FastQC.FastQCApplication.main(FastQCApplication.java:316)\n",
            "Started analysis of SRR5836473_1.fastq.gz\n",
            "Approx 5% complete for SRR5836473_1.fastq.gz\n",
            "Approx 10% complete for SRR5836473_1.fastq.gz\n",
            "Approx 15% complete for SRR5836473_1.fastq.gz\n",
            "Approx 20% complete for SRR5836473_1.fastq.gz\n",
            "Approx 25% complete for SRR5836473_1.fastq.gz\n",
            "Approx 30% complete for SRR5836473_1.fastq.gz\n",
            "Approx 35% complete for SRR5836473_1.fastq.gz\n",
            "Approx 40% complete for SRR5836473_1.fastq.gz\n",
            "Approx 45% complete for SRR5836473_1.fastq.gz\n",
            "Approx 50% complete for SRR5836473_1.fastq.gz\n",
            "Approx 55% complete for SRR5836473_1.fastq.gz\n",
            "Approx 60% complete for SRR5836473_1.fastq.gz\n",
            "Approx 65% complete for SRR5836473_1.fastq.gz\n",
            "Approx 70% complete for SRR5836473_1.fastq.gz\n",
            "Approx 75% complete for SRR5836473_1.fastq.gz\n",
            "Approx 80% complete for SRR5836473_1.fastq.gz\n",
            "Approx 85% complete for SRR5836473_1.fastq.gz\n",
            "Approx 90% complete for SRR5836473_1.fastq.gz\n",
            "Approx 95% complete for SRR5836473_1.fastq.gz\n",
            "Failed to process file SRR5836473_1.fastq.gz\n",
            "uk.ac.babraham.FastQC.Sequence.SequenceFormatException: Ran out of data in the middle of a fastq entry.  Your file is probably truncated\n",
            "\tat uk.ac.babraham.FastQC.Sequence.FastQFile.readNext(FastQFile.java:179)\n",
            "\tat uk.ac.babraham.FastQC.Sequence.FastQFile.next(FastQFile.java:125)\n",
            "\tat uk.ac.babraham.FastQC.Analysis.AnalysisRunner.run(AnalysisRunner.java:77)\n",
            "\tat java.base/java.lang.Thread.run(Thread.java:829)\n"
          ]
        }
      ],
      "source": [
        "! wget ftp://ftp.sra.ebi.ac.uk/vol1/fastq/SRR583/003/SRR5836473/SRR5836473_1.fastq.gz\n",
        "! gunzip SRR5836473_1.fastq.gz\n",
        "!ls SRR* | xargs -P 2 -tI{} ./FastQC/fastqc {}"
      ]
    },
    {
      "cell_type": "code",
      "source": [
        "!rm SRR5836473_1.fastq"
      ],
      "metadata": {
        "id": "bPqeiCa1V9wI",
        "colab": {
          "base_uri": "https://localhost:8080/"
        },
        "outputId": "8532a4da-4b14-419d-98c2-a731079d6413"
      },
      "execution_count": 5,
      "outputs": [
        {
          "output_type": "stream",
          "name": "stdout",
          "text": [
            "rm: cannot remove 'SRR5836473_1.fastq': No such file or directory\n"
          ]
        }
      ]
    },
    {
      "cell_type": "code",
      "source": [
        "! wget ftp://ftp.sra.ebi.ac.uk/vol1/fastq/SRR583/003/SRR5836473/SRR5836473_2.fastq.gz\n",
        "! gunzip SRR5836473_2.fastq.gz"
      ],
      "metadata": {
        "colab": {
          "base_uri": "https://localhost:8080/"
        },
        "id": "Utw4ZTSOlHBr",
        "outputId": "adf0d03c-c1af-415e-d47b-1611593d3123"
      },
      "execution_count": 6,
      "outputs": [
        {
          "output_type": "stream",
          "name": "stdout",
          "text": [
            "--2024-02-11 18:46:37--  ftp://ftp.sra.ebi.ac.uk/vol1/fastq/SRR583/003/SRR5836473/SRR5836473_2.fastq.gz\n",
            "           => ‘SRR5836473_2.fastq.gz’\n",
            "Resolving ftp.sra.ebi.ac.uk (ftp.sra.ebi.ac.uk)... 193.62.193.165\n",
            "Connecting to ftp.sra.ebi.ac.uk (ftp.sra.ebi.ac.uk)|193.62.193.165|:21... connected.\n",
            "Logging in as anonymous ... Logged in!\n",
            "==> SYST ... done.    ==> PWD ... done.\n",
            "==> TYPE I ... done.  ==> CWD (1) /vol1/fastq/SRR583/003/SRR5836473 ... done.\n",
            "==> SIZE SRR5836473_2.fastq.gz ... 8127008133\n",
            "==> PASV ... done.    ==> RETR SRR5836473_2.fastq.gz ... done.\n",
            "Length: 8127008133 (7.6G) (unauthoritative)\n",
            "\n",
            "SRR5836473_2.fastq.   0%[                    ] 584.00K   207KB/s               ^C\n",
            "\n",
            "gzip: SRR5836473_2.fastq.gz: unexpected end of file\n"
          ]
        }
      ]
    },
    {
      "cell_type": "code",
      "source": [
        "!ls SRR* | xargs -P 2 -tI{} ./FastQC/fastqc {}"
      ],
      "metadata": {
        "colab": {
          "base_uri": "https://localhost:8080/"
        },
        "id": "q0h5SghQ0uFk",
        "outputId": "92413094-1cb1-4406-e373-0c00a2cde613"
      },
      "execution_count": 7,
      "outputs": [
        {
          "output_type": "stream",
          "name": "stdout",
          "text": [
            "./FastQC/fastqc SRR5836473_1_fastqc.html\n",
            "./FastQC/fastqc SRR5836473_1_fastqc.zip\n",
            "Failed to process SRR5836473_1_fastqc.html\n",
            "uk.ac.babraham.FastQC.Sequence.SequenceFormatException: ID line didn't start with '@'\n",
            "\tat uk.ac.babraham.FastQC.Sequence.FastQFile.readNext(FastQFile.java:158)\n",
            "\tat uk.ac.babraham.FastQC.Sequence.FastQFile.<init>(FastQFile.java:89)\n",
            "\tat uk.ac.babraham.FastQC.Sequence.SequenceFactory.getSequenceFile(SequenceFactory.java:106)\n",
            "\tat uk.ac.babraham.FastQC.Sequence.SequenceFactory.getSequenceFile(SequenceFactory.java:62)\n",
            "\tat uk.ac.babraham.FastQC.Analysis.OfflineRunner.processFile(OfflineRunner.java:159)\n",
            "\tat uk.ac.babraham.FastQC.Analysis.OfflineRunner.<init>(OfflineRunner.java:121)\n",
            "\tat uk.ac.babraham.FastQC.FastQCApplication.main(FastQCApplication.java:316)\n",
            "Failed to process SRR5836473_1_fastqc.zip\n",
            "uk.ac.babraham.FastQC.Sequence.SequenceFormatException: ID line didn't start with '@'\n",
            "\tat uk.ac.babraham.FastQC.Sequence.FastQFile.readNext(FastQFile.java:158)\n",
            "\tat uk.ac.babraham.FastQC.Sequence.FastQFile.<init>(FastQFile.java:89)\n",
            "\tat uk.ac.babraham.FastQC.Sequence.SequenceFactory.getSequenceFile(SequenceFactory.java:106)\n",
            "\tat uk.ac.babraham.FastQC.Sequence.SequenceFactory.getSequenceFile(SequenceFactory.java:62)\n",
            "\tat uk.ac.babraham.FastQC.Analysis.OfflineRunner.processFile(OfflineRunner.java:159)\n",
            "\tat uk.ac.babraham.FastQC.Analysis.OfflineRunner.<init>(OfflineRunner.java:121)\n",
            "\tat uk.ac.babraham.FastQC.FastQCApplication.main(FastQCApplication.java:316)\n",
            "./FastQC/fastqc SRR5836473_1.fastq.gz\n",
            "./FastQC/fastqc SRR5836473_2_fastqc.html\n",
            "Started analysis of SRR5836473_1.fastq.gz\n",
            "Failed to process SRR5836473_2_fastqc.html\n",
            "uk.ac.babraham.FastQC.Sequence.SequenceFormatException: ID line didn't start with '@'\n",
            "\tat uk.ac.babraham.FastQC.Sequence.FastQFile.readNext(FastQFile.java:158)\n",
            "\tat uk.ac.babraham.FastQC.Sequence.FastQFile.<init>(FastQFile.java:89)\n",
            "\tat uk.ac.babraham.FastQC.Sequence.SequenceFactory.getSequenceFile(SequenceFactory.java:106)\n",
            "\tat uk.ac.babraham.FastQC.Sequence.SequenceFactory.getSequenceFile(SequenceFactory.java:62)\n",
            "\tat uk.ac.babraham.FastQC.Analysis.OfflineRunner.processFile(OfflineRunner.java:159)\n",
            "\tat uk.ac.babraham.FastQC.Analysis.OfflineRunner.<init>(OfflineRunner.java:121)\n",
            "\tat uk.ac.babraham.FastQC.FastQCApplication.main(FastQCApplication.java:316)\n",
            "./FastQC/fastqc SRR5836473_2_fastqc.zip\n",
            "Failed to process SRR5836473_2_fastqc.zip\n",
            "uk.ac.babraham.FastQC.Sequence.SequenceFormatException: ID line didn't start with '@'\n",
            "\tat uk.ac.babraham.FastQC.Sequence.FastQFile.readNext(FastQFile.java:158)\n",
            "\tat uk.ac.babraham.FastQC.Sequence.FastQFile.<init>(FastQFile.java:89)\n",
            "\tat uk.ac.babraham.FastQC.Sequence.SequenceFactory.getSequenceFile(SequenceFactory.java:106)\n",
            "\tat uk.ac.babraham.FastQC.Sequence.SequenceFactory.getSequenceFile(SequenceFactory.java:62)\n",
            "\tat uk.ac.babraham.FastQC.Analysis.OfflineRunner.processFile(OfflineRunner.java:159)\n",
            "\tat uk.ac.babraham.FastQC.Analysis.OfflineRunner.<init>(OfflineRunner.java:121)\n",
            "\tat uk.ac.babraham.FastQC.FastQCApplication.main(FastQCApplication.java:316)\n",
            "./FastQC/fastqc SRR5836473_2.fastq.gz\n",
            "Approx 5% complete for SRR5836473_1.fastq.gz\n",
            "Approx 10% complete for SRR5836473_1.fastq.gz\n",
            "Started analysis of SRR5836473_2.fastq.gz\n",
            "Approx 5% complete for SRR5836473_2.fastq.gz\n",
            "Approx 15% complete for SRR5836473_1.fastq.gz\n",
            "Approx 15% complete for SRR5836473_2.fastq.gz\n",
            "Approx 25% complete for SRR5836473_2.fastq.gz\n",
            "Approx 20% complete for SRR5836473_1.fastq.gz\n",
            "Approx 35% complete for SRR5836473_2.fastq.gz\n",
            "Approx 45% complete for SRR5836473_2.fastq.gz\n",
            "Approx 25% complete for SRR5836473_1.fastq.gz\n",
            "Approx 55% complete for SRR5836473_2.fastq.gz\n",
            "Approx 65% complete for SRR5836473_2.fastq.gz\n",
            "Approx 75% complete for SRR5836473_2.fastq.gz\n",
            "Approx 85% complete for SRR5836473_2.fastq.gz\n",
            "Approx 30% complete for SRR5836473_1.fastq.gz\n",
            "Approx 95% complete for SRR5836473_2.fastq.gz\n",
            "Failed to process file SRR5836473_2.fastq.gz\n",
            "uk.ac.babraham.FastQC.Sequence.SequenceFormatException: Ran out of data in the middle of a fastq entry.  Your file is probably truncated\n",
            "\tat uk.ac.babraham.FastQC.Sequence.FastQFile.readNext(FastQFile.java:179)\n",
            "\tat uk.ac.babraham.FastQC.Sequence.FastQFile.next(FastQFile.java:125)\n",
            "\tat uk.ac.babraham.FastQC.Analysis.AnalysisRunner.run(AnalysisRunner.java:77)\n",
            "\tat java.base/java.lang.Thread.run(Thread.java:829)\n",
            "Approx 35% complete for SRR5836473_1.fastq.gz\n",
            "Approx 40% complete for SRR5836473_1.fastq.gz\n",
            "Approx 45% complete for SRR5836473_1.fastq.gz\n",
            "^C\n"
          ]
        }
      ]
    },
    {
      "cell_type": "code",
      "source": [
        "!rm SRR5836473_2.fastq"
      ],
      "metadata": {
        "id": "bUoaqIkphPEe",
        "colab": {
          "base_uri": "https://localhost:8080/"
        },
        "outputId": "51ecde91-ae63-436e-b7ef-ffe9c65b6a2f"
      },
      "execution_count": 8,
      "outputs": [
        {
          "output_type": "stream",
          "name": "stdout",
          "text": [
            "rm: cannot remove 'SRR5836473_2.fastq': No such file or directory\n"
          ]
        }
      ]
    },
    {
      "cell_type": "code",
      "source": [
        "!rm -rf FastQC"
      ],
      "metadata": {
        "id": "vEkqPrqLB7kM"
      },
      "execution_count": 9,
      "outputs": []
    },
    {
      "cell_type": "markdown",
      "metadata": {
        "id": "Ugk3bV0LI5El"
      },
      "source": [
        "# Установка Bismark с зависимостями (+bowtie2, samtools)"
      ]
    },
    {
      "cell_type": "code",
      "execution_count": 37,
      "metadata": {
        "colab": {
          "base_uri": "https://localhost:8080/"
        },
        "id": "uSOZLyn5n5Nl",
        "outputId": "24959256-1511-4d95-b679-a2363ebcda79"
      },
      "outputs": [
        {
          "output_type": "stream",
          "name": "stdout",
          "text": [
            "\u001b[33mWARNING: Running pip as the 'root' user can result in broken permissions and conflicting behaviour with the system package manager. It is recommended to use a virtual environment instead: https://pip.pypa.io/warnings/venv\u001b[0m\u001b[33m\n",
            "\u001b[0m✨🍰✨ Everything looks OK!\n"
          ]
        }
      ],
      "source": [
        "! pip install -q condacolab\n",
        "import condacolab\n",
        "condacolab.install()"
      ]
    },
    {
      "cell_type": "code",
      "execution_count": 38,
      "metadata": {
        "colab": {
          "base_uri": "https://localhost:8080/"
        },
        "id": "npb--DNtn52o",
        "outputId": "5868b465-deac-446a-ba36-d8da45ec71a8"
      },
      "outputs": [
        {
          "output_type": "stream",
          "name": "stdout",
          "text": [
            "✨🍰✨ Everything looks OK!\n"
          ]
        }
      ],
      "source": [
        "import condacolab\n",
        "condacolab.check()"
      ]
    },
    {
      "cell_type": "code",
      "execution_count": 39,
      "metadata": {
        "colab": {
          "base_uri": "https://localhost:8080/"
        },
        "id": "MfBSN4YuoCL6",
        "outputId": "73734390-0322-42ad-e559-5f1c99460baa"
      },
      "outputs": [
        {
          "output_type": "stream",
          "name": "stdout",
          "text": [
            "Channels:\n",
            " - bioconda\n",
            " - conda-forge\n",
            "Platform: linux-64\n",
            "Collecting package metadata (repodata.json): - \b\b\\ \b\b| \b\b/ \b\b- \b\b\\ \b\b| \b\b/ \b\b- \b\b\\ \b\b| \b\b/ \b\b- \b\bdone\n",
            "Solving environment: | \b\b/ \b\b- \b\bdone\n",
            "\n",
            "## Package Plan ##\n",
            "\n",
            "  environment location: /usr/local\n",
            "\n",
            "  added / updated specs:\n",
            "    - bismark\n",
            "\n",
            "\n",
            "The following packages will be downloaded:\n",
            "\n",
            "    package                    |            build\n",
            "    ---------------------------|-----------------\n",
            "    bismark-0.24.2             |       hdfd78af_0         7.7 MB  bioconda\n",
            "    bowtie2-2.5.3              |  py310ha0a81b8_0        14.1 MB  bioconda\n",
            "    ca-certificates-2024.2.2   |       hbcca054_0         152 KB  conda-forge\n",
            "    certifi-2024.2.2           |     pyhd8ed1ab_0         157 KB  conda-forge\n",
            "    coreutils-8.25             |                1         9.1 MB  bioconda\n",
            "    hisat2-2.2.1               |       hdbdd923_6        16.2 MB  bioconda\n",
            "    htslib-1.19.1              |       h81da01d_1         2.9 MB  bioconda\n",
            "    k8-0.2.5                   |       hdcf5f25_4         1.7 MB  bioconda\n",
            "    libdeflate-1.18            |       h0b41bf4_0          64 KB  conda-forge\n",
            "    libgcc-7.2.0               |       h69d50b8_2         304 KB  conda-forge\n",
            "    libhwloc-2.9.3             |default_h554bfaf_1009         2.5 MB  conda-forge\n",
            "    libxcrypt-4.4.36           |       hd590300_1          98 KB  conda-forge\n",
            "    minimap2-2.26              |       he4a0461_2         1.1 MB  bioconda\n",
            "    openssl-3.2.1              |       hd590300_0         2.7 MB  conda-forge\n",
            "    perl-5.32.1                | 7_hd590300_perl5        12.7 MB  conda-forge\n",
            "    samtools-1.19.2            |       h50ea8bc_0         452 KB  bioconda\n",
            "    tbb-2021.11.0              |       h00ab1b0_1         191 KB  conda-forge\n",
            "    zlib-1.2.13                |       hd590300_5          91 KB  conda-forge\n",
            "    ------------------------------------------------------------\n",
            "                                           Total:        72.1 MB\n",
            "\n",
            "The following NEW packages will be INSTALLED:\n",
            "\n",
            "  bismark            bioconda/noarch::bismark-0.24.2-hdfd78af_0 \n",
            "  bowtie2            bioconda/linux-64::bowtie2-2.5.3-py310ha0a81b8_0 \n",
            "  coreutils          bioconda/linux-64::coreutils-8.25-1 \n",
            "  hisat2             bioconda/linux-64::hisat2-2.2.1-hdbdd923_6 \n",
            "  htslib             bioconda/linux-64::htslib-1.19.1-h81da01d_1 \n",
            "  k8                 bioconda/linux-64::k8-0.2.5-hdcf5f25_4 \n",
            "  libdeflate         conda-forge/linux-64::libdeflate-1.18-h0b41bf4_0 \n",
            "  libgcc             conda-forge/linux-64::libgcc-7.2.0-h69d50b8_2 \n",
            "  libhwloc           conda-forge/linux-64::libhwloc-2.9.3-default_h554bfaf_1009 \n",
            "  libxcrypt          conda-forge/linux-64::libxcrypt-4.4.36-hd590300_1 \n",
            "  minimap2           bioconda/linux-64::minimap2-2.26-he4a0461_2 \n",
            "  perl               conda-forge/linux-64::perl-5.32.1-7_hd590300_perl5 \n",
            "  samtools           bioconda/linux-64::samtools-1.19.2-h50ea8bc_0 \n",
            "  tbb                conda-forge/linux-64::tbb-2021.11.0-h00ab1b0_1 \n",
            "  zlib               conda-forge/linux-64::zlib-1.2.13-hd590300_5 \n",
            "\n",
            "The following packages will be UPDATED:\n",
            "\n",
            "  ca-certificates                     2023.11.17-hbcca054_0 --> 2024.2.2-hbcca054_0 \n",
            "  certifi                           2023.11.17-pyhd8ed1ab_0 --> 2024.2.2-pyhd8ed1ab_0 \n",
            "  openssl                                  3.2.0-hd590300_1 --> 3.2.1-hd590300_0 \n",
            "\n",
            "\n",
            "\n",
            "Downloading and Extracting Packages:\n",
            "hisat2-2.2.1         | 16.2 MB   | :   0% 0/1 [00:00<?, ?it/s]\n",
            "bowtie2-2.5.3        | 14.1 MB   | :   0% 0/1 [00:00<?, ?it/s]\u001b[A\n",
            "\n",
            "perl-5.32.1          | 12.7 MB   | :   0% 0/1 [00:00<?, ?it/s]\u001b[A\u001b[A\n",
            "\n",
            "\n",
            "coreutils-8.25       | 9.1 MB    | :   0% 0/1 [00:00<?, ?it/s]\u001b[A\u001b[A\u001b[A\n",
            "\n",
            "\n",
            "\n",
            "bismark-0.24.2       | 7.7 MB    | :   0% 0/1 [00:00<?, ?it/s]\u001b[A\u001b[A\u001b[A\u001b[A\n",
            "\n",
            "\n",
            "\n",
            "\n",
            "htslib-1.19.1        | 2.9 MB    | :   0% 0/1 [00:00<?, ?it/s]\u001b[A\u001b[A\u001b[A\u001b[A\u001b[A\n",
            "\n",
            "\n",
            "\n",
            "\n",
            "\n",
            "openssl-3.2.1        | 2.7 MB    | :   0% 0/1 [00:00<?, ?it/s]\u001b[A\u001b[A\u001b[A\u001b[A\u001b[A\u001b[A\n",
            "\n",
            "\n",
            "\n",
            "\n",
            "\n",
            "\n",
            "libhwloc-2.9.3       | 2.5 MB    | :   0% 0/1 [00:00<?, ?it/s]\u001b[A\u001b[A\u001b[A\u001b[A\u001b[A\u001b[A\u001b[A\n",
            "\n",
            "\n",
            "\n",
            "\n",
            "\n",
            "\n",
            "\n",
            "k8-0.2.5             | 1.7 MB    | :   0% 0/1 [00:00<?, ?it/s]\u001b[A\u001b[A\u001b[A\u001b[A\u001b[A\u001b[A\u001b[A\u001b[A\n",
            "\n",
            "\n",
            "\n",
            "\n",
            "\n",
            "\n",
            "\n",
            "\n",
            "minimap2-2.26        | 1.1 MB    | :   0% 0/1 [00:00<?, ?it/s]\u001b[A\u001b[A\u001b[A\u001b[A\u001b[A\u001b[A\u001b[A\u001b[A\u001b[A\n",
            "\n",
            "\n",
            "\n",
            "\n",
            "\n",
            "\n",
            "\n",
            "\n",
            "\n",
            "samtools-1.19.2      | 452 KB    | :   0% 0/1 [00:00<?, ?it/s]\u001b[A\u001b[A\u001b[A\u001b[A\u001b[A\u001b[A\u001b[A\u001b[A\u001b[A\u001b[A\n",
            "\n",
            "\n",
            "\n",
            "\n",
            "\n",
            "\n",
            "\n",
            "\n",
            "\n",
            "\n",
            "libgcc-7.2.0         | 304 KB    | :   0% 0/1 [00:00<?, ?it/s]\u001b[A\u001b[A\u001b[A\u001b[A\u001b[A\u001b[A\u001b[A\u001b[A\u001b[A\u001b[A\u001b[A\n",
            "\n",
            "\n",
            "\n",
            "\n",
            "\n",
            "\n",
            "\n",
            "\n",
            "\n",
            "\n",
            "\n",
            "tbb-2021.11.0        | 191 KB    | :   0% 0/1 [00:00<?, ?it/s]\u001b[A\u001b[A\u001b[A\u001b[A\u001b[A\u001b[A\u001b[A\u001b[A\u001b[A\u001b[A\u001b[A\u001b[A\n",
            "\n",
            "\n",
            "\n",
            "\n",
            "\n",
            "\n",
            "\n",
            "\n",
            "\n",
            "\n",
            "\n",
            "\n",
            "certifi-2024.2.2     | 157 KB    | :   0% 0/1 [00:00<?, ?it/s]\u001b[A\u001b[A\u001b[A\u001b[A\u001b[A\u001b[A\u001b[A\u001b[A\u001b[A\u001b[A\u001b[A\u001b[A\u001b[A\n",
            "\n",
            "\n",
            "\n",
            "\n",
            "\n",
            "\n",
            "\n",
            "\n",
            "\n",
            "\n",
            "\n",
            "\n",
            "\n",
            "ca-certificates-2024 | 152 KB    | :   0% 0/1 [00:00<?, ?it/s]\u001b[A\u001b[A\u001b[A\u001b[A\u001b[A\u001b[A\u001b[A\u001b[A\u001b[A\u001b[A\u001b[A\u001b[A\u001b[A\u001b[A\n",
            "\n",
            "\n",
            "\n",
            "\n",
            "\n",
            "\n",
            "\n",
            "\n",
            "\n",
            "\n",
            "\n",
            "\n",
            "\n",
            "\n",
            "libxcrypt-4.4.36     | 98 KB     | :   0% 0/1 [00:00<?, ?it/s]\u001b[A\u001b[A\u001b[A\u001b[A\u001b[A\u001b[A\u001b[A\u001b[A\u001b[A\u001b[A\u001b[A\u001b[A\u001b[A\u001b[A\u001b[A\n",
            "\n",
            "\n",
            "\n",
            "\n",
            "\n",
            "\n",
            "\n",
            "\n",
            "\n",
            "\n",
            "\n",
            "\n",
            "\n",
            "\n",
            "\n",
            "zlib-1.2.13          | 91 KB     | :   0% 0/1 [00:00<?, ?it/s]\u001b[A\u001b[A\u001b[A\u001b[A\u001b[A\u001b[A\u001b[A\u001b[A\u001b[A\u001b[A\u001b[A\u001b[A\u001b[A\u001b[A\u001b[A\u001b[A\n",
            "\n",
            "\n",
            "\n",
            "\n",
            "\n",
            "\n",
            "\n",
            "\n",
            "\n",
            "\n",
            "\n",
            "\n",
            "\n",
            "\n",
            "\n",
            "\n",
            "libdeflate-1.18      | 64 KB     | :   0% 0/1 [00:00<?, ?it/s]\u001b[A\u001b[A\u001b[A\u001b[A\u001b[A\u001b[A\u001b[A\u001b[A\u001b[A\u001b[A\u001b[A\u001b[A\u001b[A\u001b[A\u001b[A\u001b[A\u001b[A\n",
            "\n",
            "\n",
            "\n",
            "bismark-0.24.2       | 7.7 MB    | :   0% 0.0020357622695866633/1 [00:00<01:09, 69.94s/it]\u001b[A\u001b[A\u001b[A\u001b[A\n",
            "\n",
            "\n",
            "hisat2-2.2.1         | 16.2 MB   | :   0% 0.0009635402010155163/1 [00:00<03:02, 182.43s/it]\n",
            "\n",
            "perl-5.32.1          | 12.7 MB   | :   0% 0.0012277751453917628/1 [00:00<02:28, 149.16s/it]\u001b[A\u001b[A\n",
            "bowtie2-2.5.3        | 14.1 MB   | :   0% 0.0011091829639407896/1 [00:00<02:56, 176.48s/it]\u001b[A\n",
            "\n",
            "\n",
            "\n",
            "bismark-0.24.2       | 7.7 MB    | :  36% 0.3603299217168394/1 [00:00<00:00,  1.77it/s]   \u001b[A\u001b[A\u001b[A\u001b[A\n",
            "\n",
            "\n",
            "hisat2-2.2.1         | 16.2 MB   | :  12% 0.11947898492592403/1 [00:00<00:01,  1.87s/it]   \n",
            "\n",
            "perl-5.32.1          | 12.7 MB   | :  16% 0.15592744346475387/1 [00:00<00:01,  1.47s/it]   \u001b[A\u001b[A\n",
            "bowtie2-2.5.3        | 14.1 MB   | :  19% 0.18967028683387502/1 [00:00<00:01,  1.25s/it]   \u001b[A\n",
            "\n",
            "\n",
            "\n",
            "bismark-0.24.2       | 7.7 MB    | :  64% 0.6371935903806256/1 [00:00<00:00,  2.18it/s]\u001b[A\u001b[A\u001b[A\u001b[A\n",
            "\n",
            "\n",
            "hisat2-2.2.1         | 16.2 MB   | :  30% 0.29966100251582556/1 [00:00<00:00,  1.03it/s]\n",
            "\n",
            "perl-5.32.1          | 12.7 MB   | :  39% 0.38920472108918885/1 [00:00<00:00,  1.32it/s]\u001b[A\u001b[A\n",
            "bowtie2-2.5.3        | 14.1 MB   | :  37% 0.3682487440283421/1 [00:00<00:00,  1.17it/s] \u001b[A\n",
            "\n",
            "\n",
            "\n",
            "bismark-0.24.2       | 7.7 MB    | :  95% 0.9486652176273852/1 [00:00<00:00,  2.52it/s]\u001b[A\u001b[A\u001b[A\u001b[A\n",
            "\n",
            "\n",
            "hisat2-2.2.1         | 16.2 MB   | :  45% 0.4538274346783082/1 [00:00<00:00,  1.21it/s] \n",
            "\n",
            "perl-5.32.1          | 12.7 MB   | :  63% 0.6273930992951908/1 [00:00<00:00,  1.67it/s] \u001b[A\u001b[A\n",
            "hisat2-2.2.1         | 16.2 MB   | :  60% 0.5993220050316511/1 [00:00<00:00,  1.29it/s]\n",
            "\n",
            "perl-5.32.1          | 12.7 MB   | :  82% 0.8226093474124812/1 [00:00<00:00,  1.75it/s]\u001b[A\u001b[A\n",
            "hisat2-2.2.1         | 16.2 MB   | :  78% 0.7843217236266303/1 [00:00<00:00,  1.47it/s]\n",
            "\n",
            "\n",
            "\n",
            "\n",
            "hisat2-2.2.1         | 16.2 MB   | :  96% 0.9577589598094233/1 [00:00<00:00,  1.48it/s]\n",
            "\n",
            "\n",
            "\n",
            "\n",
            "\n",
            "openssl-3.2.1        | 2.7 MB    | :   1% 0.005722530613128779/1 [00:00<02:17, 138.15s/it]\u001b[A\u001b[A\u001b[A\u001b[A\u001b[A\u001b[A\n",
            "\n",
            "\n",
            "\n",
            "\n",
            "htslib-1.19.1        | 2.9 MB    | : 100% 0.9971087135670972/1 [00:00<00:00,  1.64it/s]   \u001b[A\u001b[A\u001b[A\u001b[A\u001b[A\n",
            "\n",
            "\n",
            "\n",
            "\n",
            "\n",
            "openssl-3.2.1        | 2.7 MB    | :  77% 0.7725416327723852/1 [00:00<00:00,  1.16it/s]   \u001b[A\u001b[A\u001b[A\u001b[A\u001b[A\u001b[A\n",
            "\n",
            "\n",
            "\n",
            "\n",
            "\n",
            "\n",
            "libhwloc-2.9.3       | 2.5 MB    | :   1% 0.006263799072128885/1 [00:01<02:44, 165.69s/it]\u001b[A\u001b[A\u001b[A\u001b[A\u001b[A\u001b[A\u001b[A\n",
            "\n",
            "\n",
            "\n",
            "\n",
            "\n",
            "\n",
            "\n",
            "k8-0.2.5             | 1.7 MB    | :   1% 0.009349703684470327/1 [00:01<01:51, 112.47s/it]\u001b[A\u001b[A\u001b[A\u001b[A\u001b[A\u001b[A\u001b[A\u001b[A\n",
            "\n",
            "\n",
            "\n",
            "\n",
            "\n",
            "\n",
            "libhwloc-2.9.3       | 2.5 MB    | :  93% 0.9333060617472039/1 [00:01<00:00,  1.13it/s]   \u001b[A\u001b[A\u001b[A\u001b[A\u001b[A\u001b[A\u001b[A\n",
            "\n",
            "\n",
            "\n",
            "\n",
            "\n",
            "\n",
            "\n",
            "\n",
            "minimap2-2.26        | 1.1 MB    | :   1% 0.01474465929073725/1 [00:01<01:18, 80.06s/it]\u001b[A\u001b[A\u001b[A\u001b[A\u001b[A\u001b[A\u001b[A\u001b[A\u001b[A\n",
            "\n",
            "\n",
            "\n",
            "\n",
            "\n",
            "\n",
            "\n",
            "\n",
            "\n",
            "samtools-1.19.2      | 452 KB    | :   4% 0.03536926819896077/1 [00:01<00:32, 33.87s/it]\u001b[A\u001b[A\u001b[A\u001b[A\u001b[A\u001b[A\u001b[A\u001b[A\u001b[A\u001b[A\n",
            "\n",
            "\n",
            "\n",
            "\n",
            "\n",
            "\n",
            "\n",
            "\n",
            "\n",
            "\n",
            "libgcc-7.2.0         | 304 KB    | :   5% 0.05255779785906529/1 [00:01<00:21, 23.09s/it]\u001b[A\u001b[A\u001b[A\u001b[A\u001b[A\u001b[A\u001b[A\u001b[A\u001b[A\u001b[A\u001b[A\n",
            "\n",
            "\n",
            "\n",
            "\n",
            "\n",
            "\n",
            "\n",
            "\n",
            "\n",
            "\n",
            "\n",
            "\n",
            "certifi-2024.2.2     | 157 KB    | :  10% 0.10204348557228184/1 [00:01<00:11, 12.43s/it]\u001b[A\u001b[A\u001b[A\u001b[A\u001b[A\u001b[A\u001b[A\u001b[A\u001b[A\u001b[A\u001b[A\u001b[A\u001b[A\n",
            "\n",
            "\n",
            "\n",
            "\n",
            "\n",
            "\n",
            "\n",
            "\n",
            "\n",
            "\n",
            "\n",
            "\n",
            "\n",
            "ca-certificates-2024 | 152 KB    | :  11% 0.10540943949765814/1 [00:01<00:10, 12.12s/it]\u001b[A\u001b[A\u001b[A\u001b[A\u001b[A\u001b[A\u001b[A\u001b[A\u001b[A\u001b[A\u001b[A\u001b[A\u001b[A\u001b[A\n",
            "\n",
            "\n",
            "\n",
            "\n",
            "\n",
            "\n",
            "\n",
            "\n",
            "\n",
            "\n",
            "\n",
            "tbb-2021.11.0        | 191 KB    | :   8% 0.08378848317479799/1 [00:01<00:14, 15.41s/it]\u001b[A\u001b[A\u001b[A\u001b[A\u001b[A\u001b[A\u001b[A\u001b[A\u001b[A\u001b[A\u001b[A\u001b[A\n",
            "\n",
            "\n",
            "\n",
            "\n",
            "\n",
            "\n",
            "\n",
            "\n",
            "\n",
            "\n",
            "\n",
            "\n",
            "\n",
            "\n",
            "libxcrypt-4.4.36     | 98 KB     | :  16% 0.163198629386511/1 [00:01<00:06,  7.95s/it]\u001b[A\u001b[A\u001b[A\u001b[A\u001b[A\u001b[A\u001b[A\u001b[A\u001b[A\u001b[A\u001b[A\u001b[A\u001b[A\u001b[A\u001b[A\n",
            "\n",
            "\n",
            "\n",
            "\n",
            "\n",
            "\n",
            "\n",
            "\n",
            "\n",
            "\n",
            "\n",
            "\n",
            "\n",
            "\n",
            "\n",
            "\n",
            "libdeflate-1.18      | 64 KB     | :  25% 0.25137701950074415/1 [00:01<00:03,  5.26s/it]\u001b[A\u001b[A\u001b[A\u001b[A\u001b[A\u001b[A\u001b[A\u001b[A\u001b[A\u001b[A\u001b[A\u001b[A\u001b[A\u001b[A\u001b[A\u001b[A\u001b[A\n",
            "\n",
            "\n",
            "\n",
            "\n",
            "\n",
            "\n",
            "\n",
            "\n",
            "\n",
            "\n",
            "\n",
            "\n",
            "\n",
            "\n",
            "\n",
            "zlib-1.2.13          | 91 KB     | :  18% 0.1765041745219499/1 [00:01<00:06,  7.53s/it]\u001b[A\u001b[A\u001b[A\u001b[A\u001b[A\u001b[A\u001b[A\u001b[A\u001b[A\u001b[A\u001b[A\u001b[A\u001b[A\u001b[A\u001b[A\u001b[A\n",
            "\n",
            "\n",
            "\n",
            "bismark-0.24.2       | 7.7 MB    | : 100% 1.0/1 [00:03<00:00,  2.52it/s]               \u001b[A\u001b[A\u001b[A\u001b[A\n",
            "\n",
            "\n",
            "\n",
            "\n",
            "htslib-1.19.1        | 2.9 MB    | : 100% 1.0/1 [00:04<00:00,  1.64it/s]               \u001b[A\u001b[A\u001b[A\u001b[A\u001b[A\n",
            "\n",
            "\n",
            "\n",
            "\n",
            "\n",
            "openssl-3.2.1        | 2.7 MB    | : 100% 1.0/1 [00:04<00:00,  1.16it/s]               \u001b[A\u001b[A\u001b[A\u001b[A\u001b[A\u001b[A\n",
            "\n",
            "\n",
            "coreutils-8.25       | 9.1 MB    | : 100% 1.0/1 [00:04<00:00,  2.37it/s]               \u001b[A\u001b[A\u001b[A\n",
            "\n",
            "perl-5.32.1          | 12.7 MB   | : 100% 1.0/1 [00:08<00:00,  1.75it/s]               \u001b[A\u001b[A\n",
            "\n",
            "\n",
            "\n",
            "\n",
            "\n",
            "\n",
            "\n",
            "k8-0.2.5             | 1.7 MB    | : 100% 1.0/1 [00:08<00:00,  8.19s/it]                  \u001b[A\u001b[A\u001b[A\u001b[A\u001b[A\u001b[A\u001b[A\u001b[A\n",
            "\n",
            "\n",
            "\n",
            "\n",
            "\n",
            "\n",
            "\n",
            "k8-0.2.5             | 1.7 MB    | : 100% 1.0/1 [00:08<00:00,  8.19s/it]\u001b[A\u001b[A\u001b[A\u001b[A\u001b[A\u001b[A\u001b[A\u001b[A\n",
            "\n",
            "\n",
            "\n",
            "\n",
            "\n",
            "\n",
            "libhwloc-2.9.3       | 2.5 MB    | : 100% 1.0/1 [00:08<00:00,  1.13it/s]               \u001b[A\u001b[A\u001b[A\u001b[A\u001b[A\u001b[A\u001b[A\n",
            "\n",
            "\n",
            "\n",
            "\n",
            "\n",
            "\n",
            "\n",
            "\n",
            "\n",
            "\n",
            "libgcc-7.2.0         | 304 KB    | : 100% 1.0/1 [00:08<00:00,  8.68s/it]                \u001b[A\u001b[A\u001b[A\u001b[A\u001b[A\u001b[A\u001b[A\u001b[A\u001b[A\u001b[A\u001b[A\n",
            "\n",
            "\n",
            "\n",
            "\n",
            "\n",
            "\n",
            "\n",
            "\n",
            "\n",
            "\n",
            "libgcc-7.2.0         | 304 KB    | : 100% 1.0/1 [00:08<00:00,  8.68s/it]\u001b[A\u001b[A\u001b[A\u001b[A\u001b[A\u001b[A\u001b[A\u001b[A\u001b[A\u001b[A\u001b[A\n",
            "\n",
            "\n",
            "\n",
            "\n",
            "\n",
            "\n",
            "\n",
            "\n",
            "\n",
            "samtools-1.19.2      | 452 KB    | : 100% 1.0/1 [00:09<00:00,  8.82s/it]                \u001b[A\u001b[A\u001b[A\u001b[A\u001b[A\u001b[A\u001b[A\u001b[A\u001b[A\u001b[A\n",
            "\n",
            "\n",
            "\n",
            "\n",
            "\n",
            "\n",
            "\n",
            "\n",
            "\n",
            "samtools-1.19.2      | 452 KB    | : 100% 1.0/1 [00:09<00:00,  8.82s/it]\u001b[A\u001b[A\u001b[A\u001b[A\u001b[A\u001b[A\u001b[A\u001b[A\u001b[A\u001b[A\n",
            "\n",
            "\n",
            "\n",
            "\n",
            "\n",
            "\n",
            "\n",
            "\n",
            "minimap2-2.26        | 1.1 MB    | : 100% 1.0/1 [00:09<00:00,  9.03s/it]                \u001b[A\u001b[A\u001b[A\u001b[A\u001b[A\u001b[A\u001b[A\u001b[A\u001b[A\n",
            "\n",
            "\n",
            "\n",
            "\n",
            "\n",
            "\n",
            "\n",
            "\n",
            "minimap2-2.26        | 1.1 MB    | : 100% 1.0/1 [00:09<00:00,  9.03s/it]\u001b[A\u001b[A\u001b[A\u001b[A\u001b[A\u001b[A\u001b[A\u001b[A\u001b[A\n",
            "\n",
            "\n",
            "\n",
            "\n",
            "\n",
            "\n",
            "\n",
            "\n",
            "\n",
            "\n",
            "\n",
            "\n",
            "certifi-2024.2.2     | 157 KB    | : 100% 1.0/1 [00:09<00:00,  9.27s/it]                \u001b[A\u001b[A\u001b[A\u001b[A\u001b[A\u001b[A\u001b[A\u001b[A\u001b[A\u001b[A\u001b[A\u001b[A\u001b[A\n",
            "\n",
            "\n",
            "\n",
            "\n",
            "\n",
            "\n",
            "\n",
            "\n",
            "\n",
            "\n",
            "\n",
            "\n",
            "certifi-2024.2.2     | 157 KB    | : 100% 1.0/1 [00:09<00:00,  9.27s/it]\u001b[A\u001b[A\u001b[A\u001b[A\u001b[A\u001b[A\u001b[A\u001b[A\u001b[A\u001b[A\u001b[A\u001b[A\u001b[A\n",
            "\n",
            "\n",
            "\n",
            "\n",
            "\n",
            "\n",
            "\n",
            "\n",
            "\n",
            "\n",
            "\n",
            "\n",
            "\n",
            "ca-certificates-2024 | 152 KB    | : 100% 1.0/1 [00:09<00:00,  9.29s/it]                \u001b[A\u001b[A\u001b[A\u001b[A\u001b[A\u001b[A\u001b[A\u001b[A\u001b[A\u001b[A\u001b[A\u001b[A\u001b[A\u001b[A\n",
            "\n",
            "\n",
            "\n",
            "\n",
            "\n",
            "\n",
            "\n",
            "\n",
            "\n",
            "\n",
            "\n",
            "\n",
            "\n",
            "ca-certificates-2024 | 152 KB    | : 100% 1.0/1 [00:09<00:00,  9.29s/it]\u001b[A\u001b[A\u001b[A\u001b[A\u001b[A\u001b[A\u001b[A\u001b[A\u001b[A\u001b[A\u001b[A\u001b[A\u001b[A\u001b[A\n",
            "\n",
            "\n",
            "\n",
            "\n",
            "\n",
            "\n",
            "\n",
            "\n",
            "\n",
            "\n",
            "\n",
            "tbb-2021.11.0        | 191 KB    | : 100% 1.0/1 [00:09<00:00,  9.24s/it]                \u001b[A\u001b[A\u001b[A\u001b[A\u001b[A\u001b[A\u001b[A\u001b[A\u001b[A\u001b[A\u001b[A\u001b[A\n",
            "\n",
            "\n",
            "\n",
            "\n",
            "\n",
            "\n",
            "\n",
            "\n",
            "\n",
            "\n",
            "\n",
            "tbb-2021.11.0        | 191 KB    | : 100% 1.0/1 [00:09<00:00,  9.24s/it]\u001b[A\u001b[A\u001b[A\u001b[A\u001b[A\u001b[A\u001b[A\u001b[A\u001b[A\u001b[A\u001b[A\u001b[A\n",
            "\n",
            "\n",
            "\n",
            "\n",
            "\n",
            "\n",
            "\n",
            "\n",
            "\n",
            "\n",
            "\n",
            "\n",
            "\n",
            "\n",
            "libxcrypt-4.4.36     | 98 KB     | : 100% 1.0/1 [00:09<00:00,  9.50s/it]              \u001b[A\u001b[A\u001b[A\u001b[A\u001b[A\u001b[A\u001b[A\u001b[A\u001b[A\u001b[A\u001b[A\u001b[A\u001b[A\u001b[A\u001b[A\n",
            "\n",
            "\n",
            "\n",
            "\n",
            "\n",
            "\n",
            "\n",
            "\n",
            "\n",
            "\n",
            "\n",
            "\n",
            "\n",
            "\n",
            "libxcrypt-4.4.36     | 98 KB     | : 100% 1.0/1 [00:09<00:00,  9.50s/it]\u001b[A\u001b[A\u001b[A\u001b[A\u001b[A\u001b[A\u001b[A\u001b[A\u001b[A\u001b[A\u001b[A\u001b[A\u001b[A\u001b[A\u001b[A\n",
            "bowtie2-2.5.3        | 14.1 MB   | : 100% 1.0/1 [00:10<00:00, 17.43s/it]              \u001b[A\n",
            "bowtie2-2.5.3        | 14.1 MB   | : 100% 1.0/1 [00:10<00:00, 17.43s/it]\u001b[A\n",
            "\n",
            "\n",
            "\n",
            "\n",
            "\n",
            "\n",
            "\n",
            "\n",
            "\n",
            "\n",
            "\n",
            "\n",
            "\n",
            "\n",
            "\n",
            "\n",
            "libdeflate-1.18      | 64 KB     | : 100% 1.0/1 [00:10<00:00, 10.56s/it]                \u001b[A\u001b[A\u001b[A\u001b[A\u001b[A\u001b[A\u001b[A\u001b[A\u001b[A\u001b[A\u001b[A\u001b[A\u001b[A\u001b[A\u001b[A\u001b[A\u001b[A\n",
            "\n",
            "\n",
            "\n",
            "\n",
            "\n",
            "\n",
            "\n",
            "\n",
            "\n",
            "\n",
            "\n",
            "\n",
            "\n",
            "\n",
            "\n",
            "\n",
            "libdeflate-1.18      | 64 KB     | : 100% 1.0/1 [00:10<00:00, 10.56s/it]\u001b[A\u001b[A\u001b[A\u001b[A\u001b[A\u001b[A\u001b[A\u001b[A\u001b[A\u001b[A\u001b[A\u001b[A\u001b[A\u001b[A\u001b[A\u001b[A\u001b[A\n",
            "\n",
            "\n",
            "\n",
            "\n",
            "\n",
            "\n",
            "\n",
            "\n",
            "\n",
            "\n",
            "\n",
            "\n",
            "\n",
            "\n",
            "\n",
            "zlib-1.2.13          | 91 KB     | : 100% 1.0/1 [00:10<00:00, 10.33s/it]               \u001b[A\u001b[A\u001b[A\u001b[A\u001b[A\u001b[A\u001b[A\u001b[A\u001b[A\u001b[A\u001b[A\u001b[A\u001b[A\u001b[A\u001b[A\u001b[A\n",
            "\n",
            "\n",
            "\n",
            "\n",
            "\n",
            "\n",
            "\n",
            "\n",
            "\n",
            "\n",
            "\n",
            "\n",
            "\n",
            "\n",
            "\n",
            "                                                                        \n",
            "                                                                        \u001b[A\n",
            "\n",
            "                                                                        \u001b[A\u001b[A\n",
            "\n",
            "\n",
            "                                                                        \u001b[A\u001b[A\u001b[A\n",
            "\n",
            "\n",
            "\n",
            "                                                                        \u001b[A\u001b[A\u001b[A\u001b[A\n",
            "\n",
            "\n",
            "\n",
            "\n",
            "                                                                        \u001b[A\u001b[A\u001b[A\u001b[A\u001b[A\n",
            "\n",
            "\n",
            "\n",
            "\n",
            "\n",
            "                                                                        \u001b[A\u001b[A\u001b[A\u001b[A\u001b[A\u001b[A\n",
            "\n",
            "\n",
            "\n",
            "\n",
            "\n",
            "\n",
            "                                                                        \u001b[A\u001b[A\u001b[A\u001b[A\u001b[A\u001b[A\u001b[A\n",
            "\n",
            "\n",
            "\n",
            "\n",
            "\n",
            "\n",
            "\n",
            "                                                                        \u001b[A\u001b[A\u001b[A\u001b[A\u001b[A\u001b[A\u001b[A\u001b[A\n",
            "\n",
            "\n",
            "\n",
            "\n",
            "\n",
            "\n",
            "\n",
            "\n",
            "                                                                        \u001b[A\u001b[A\u001b[A\u001b[A\u001b[A\u001b[A\u001b[A\u001b[A\u001b[A\n",
            "\n",
            "\n",
            "\n",
            "\n",
            "\n",
            "\n",
            "\n",
            "\n",
            "\n",
            "                                                                        \u001b[A\u001b[A\u001b[A\u001b[A\u001b[A\u001b[A\u001b[A\u001b[A\u001b[A\u001b[A\n",
            "\n",
            "\n",
            "\n",
            "\n",
            "\n",
            "\n",
            "\n",
            "\n",
            "\n",
            "\n",
            "                                                                        \u001b[A\u001b[A\u001b[A\u001b[A\u001b[A\u001b[A\u001b[A\u001b[A\u001b[A\u001b[A\u001b[A\n",
            "\n",
            "\n",
            "\n",
            "\n",
            "\n",
            "\n",
            "\n",
            "\n",
            "\n",
            "\n",
            "\n",
            "                                                                        \u001b[A\u001b[A\u001b[A\u001b[A\u001b[A\u001b[A\u001b[A\u001b[A\u001b[A\u001b[A\u001b[A\u001b[A\n",
            "\n",
            "\n",
            "\n",
            "\n",
            "\n",
            "\n",
            "\n",
            "\n",
            "\n",
            "\n",
            "\n",
            "\n",
            "                                                                        \u001b[A\u001b[A\u001b[A\u001b[A\u001b[A\u001b[A\u001b[A\u001b[A\u001b[A\u001b[A\u001b[A\u001b[A\u001b[A\n",
            "\n",
            "\n",
            "\n",
            "\n",
            "\n",
            "\n",
            "\n",
            "\n",
            "\n",
            "\n",
            "\n",
            "\n",
            "\n",
            "                                                                        \u001b[A\u001b[A\u001b[A\u001b[A\u001b[A\u001b[A\u001b[A\u001b[A\u001b[A\u001b[A\u001b[A\u001b[A\u001b[A\u001b[A\n",
            "\n",
            "\n",
            "\n",
            "\n",
            "\n",
            "\n",
            "\n",
            "\n",
            "\n",
            "\n",
            "\n",
            "\n",
            "\n",
            "\n",
            "                                                                        \u001b[A\u001b[A\u001b[A\u001b[A\u001b[A\u001b[A\u001b[A\u001b[A\u001b[A\u001b[A\u001b[A\u001b[A\u001b[A\u001b[A\u001b[A\n",
            "\n",
            "\n",
            "\n",
            "\n",
            "\n",
            "\n",
            "\n",
            "\n",
            "\n",
            "\n",
            "\n",
            "\n",
            "\n",
            "\n",
            "\n",
            "                                                                        \u001b[A\u001b[A\u001b[A\u001b[A\u001b[A\u001b[A\u001b[A\u001b[A\u001b[A\u001b[A\u001b[A\u001b[A\u001b[A\u001b[A\u001b[A\u001b[A\n",
            "\n",
            "\n",
            "\n",
            "\n",
            "\n",
            "\n",
            "\n",
            "\n",
            "\n",
            "\n",
            "\n",
            "\n",
            "\n",
            "\n",
            "\n",
            "\n",
            "                                                                        \u001b[A\u001b[A\u001b[A\u001b[A\u001b[A\u001b[A\u001b[A\u001b[A\u001b[A\u001b[A\u001b[A\u001b[A\u001b[A\u001b[A\u001b[A\u001b[A\u001b[A\n",
            "Preparing transaction: | \b\b/ \b\bdone\n",
            "Verifying transaction: \\ \b\b| \b\b/ \b\b- \b\b\\ \b\b| \b\b/ \b\b- \b\b\\ \b\b| \b\b/ \b\b- \b\b\\ \b\b| \b\b/ \b\b- \b\b\\ \b\b| \b\b/ \b\b- \b\b\\ \b\bdone\n",
            "Executing transaction: / \b\b- \b\b\\ \b\b| \b\b/ \b\b- \b\b\\ \b\b| \b\b/ \b\b- \b\b\\ \b\b| \b\b/ \b\b- \b\bdone\n"
          ]
        }
      ],
      "source": [
        "! conda install -c bioconda bismark"
      ]
    },
    {
      "cell_type": "code",
      "execution_count": 40,
      "metadata": {
        "colab": {
          "base_uri": "https://localhost:8080/"
        },
        "id": "13VM_exnoHEl",
        "outputId": "a975577d-66cb-472c-a911-0359b6339190"
      },
      "outputs": [
        {
          "output_type": "stream",
          "name": "stdout",
          "text": [
            "\n",
            "Usage: samtools view [options] <in.bam>|<in.sam>|<in.cram> [region ...]\n",
            "\n",
            "Output options:\n",
            "  -b, --bam                  Output BAM\n",
            "  -C, --cram                 Output CRAM (requires -T)\n",
            "  -1, --fast                 Use fast BAM compression (and default to --bam)\n",
            "  -u, --uncompressed         Uncompressed BAM output (and default to --bam)\n",
            "  -h, --with-header          Include header in SAM output\n",
            "  -H, --header-only          Print SAM header only (no alignments)\n",
            "      --no-header            Print SAM alignment records only [default]\n",
            "  -c, --count                Print only the count of matching records\n",
            "  -o, --output FILE          Write output to FILE [standard output]\n",
            "  -U, --unoutput FILE, --output-unselected FILE\n",
            "                             Output reads not selected by filters to FILE\n",
            "  -p, --unmap                Set flag to UNMAP on reads not selected\n",
            "                             then write to output file.\n",
            "  -P, --fetch-pairs          Retrieve complete pairs even when outside of region\n",
            "Input options:\n",
            "  -t, --fai-reference FILE   FILE listing reference names and lengths\n",
            "  -M, --use-index            Use index and multi-region iterator for regions\n",
            "      --region[s]-file FILE  Use index to include only reads overlapping FILE\n",
            "  -X, --customized-index     Expect extra index file argument after <in.bam>\n",
            "\n",
            "Filtering options (Only include in output reads that...):\n",
            "  -L, --target[s]-file FILE  ...overlap (BED) regions in FILE\n",
            "  -N, --qname-file [^]FILE   ...whose read name is listed in FILE (\"^\" negates)\n",
            "  -r, --read-group STR       ...are in read group STR\n",
            "  -R, --read-group-file [^]FILE\n",
            "                             ...are in a read group listed in FILE\n",
            "  -d, --tag STR1[:STR2]      ...have a tag STR1 (with associated value STR2)\n",
            "  -D, --tag-file STR:FILE    ...have a tag STR whose value is listed in FILE\n",
            "  -q, --min-MQ INT           ...have mapping quality >= INT\n",
            "  -l, --library STR          ...are in library STR\n",
            "  -m, --min-qlen INT         ...cover >= INT query bases (as measured via CIGAR)\n",
            "  -e, --expr STR             ...match the filter expression STR\n",
            "  -f, --require-flags FLAG   ...have all of the FLAGs present\n",
            "  -F, --excl[ude]-flags FLAG ...have none of the FLAGs present\n",
            "      --rf, --incl-flags, --include-flags FLAG\n",
            "                             ...have some of the FLAGs present\n",
            "  -G FLAG                    EXCLUDE reads with all of the FLAGs present\n",
            "      --subsample FLOAT      Keep only FLOAT fraction of templates/read pairs\n",
            "      --subsample-seed INT   Influence WHICH reads are kept in subsampling [0]\n",
            "  -s INT.FRAC                Same as --subsample 0.FRAC --subsample-seed INT\n",
            "\n",
            "Processing options:\n",
            "      --add-flags FLAG       Add FLAGs to reads\n",
            "      --remove-flags FLAG    Remove FLAGs from reads\n",
            "  -x, --remove-tag STR\n",
            "               Comma-separated read tags to strip (repeatable) [null]\n",
            "      --keep-tag STR\n",
            "               Comma-separated read tags to preserve (repeatable) [null].\n",
            "               Equivalent to \"-x ^STR\"\n",
            "  -B, --remove-B             Collapse the backward CIGAR operation\n",
            "  -z, --sanitize FLAGS       Perform sanitity checking and fixing on records.\n",
            "                             FLAGS is comma separated (see manual). [off]\n",
            "\n",
            "General options:\n",
            "  -?, --help   Print long help, including note about region specification\n",
            "  -S           Ignored (input format is auto-detected)\n",
            "      --no-PG  Do not add a PG line\n",
            "      --input-fmt-option OPT[=VAL]\n",
            "               Specify a single input file format option in the form\n",
            "               of OPTION or OPTION=VALUE\n",
            "  -O, --output-fmt FORMAT[,OPT[=VAL]]...\n",
            "               Specify output format (SAM, BAM, CRAM)\n",
            "      --output-fmt-option OPT[=VAL]\n",
            "               Specify a single output file format option in the form\n",
            "               of OPTION or OPTION=VALUE\n",
            "  -T, --reference FILE\n",
            "               Reference sequence FASTA FILE [null]\n",
            "  -@, --threads INT\n",
            "               Number of additional threads to use [0]\n",
            "      --write-index\n",
            "               Automatically index the output files [off]\n",
            "      --verbosity INT\n",
            "               Set level of verbosity\n",
            "\n"
          ]
        }
      ],
      "source": [
        "! samtools view"
      ]
    },
    {
      "cell_type": "markdown",
      "metadata": {
        "id": "lBUia_8DP-gu"
      },
      "source": [
        "Будем загружать файлы с google drive"
      ]
    },
    {
      "cell_type": "code",
      "source": [
        "! pip install -U --no-cache-dir gdown --pre"
      ],
      "metadata": {
        "colab": {
          "base_uri": "https://localhost:8080/"
        },
        "id": "91U8NqZUXj58",
        "outputId": "3fda762e-19e9-43f5-f430-859b4dc04f82"
      },
      "execution_count": 41,
      "outputs": [
        {
          "output_type": "stream",
          "name": "stdout",
          "text": [
            "Requirement already satisfied: gdown in /usr/local/lib/python3.10/site-packages (5.1.0)\n",
            "Requirement already satisfied: beautifulsoup4 in /usr/local/lib/python3.10/site-packages (from gdown) (4.12.3)\n",
            "Requirement already satisfied: filelock in /usr/local/lib/python3.10/site-packages (from gdown) (3.13.1)\n",
            "Requirement already satisfied: requests[socks] in /usr/local/lib/python3.10/site-packages (from gdown) (2.31.0)\n",
            "Requirement already satisfied: tqdm in /usr/local/lib/python3.10/site-packages (from gdown) (4.66.1)\n",
            "Requirement already satisfied: soupsieve>1.2 in /usr/local/lib/python3.10/site-packages (from beautifulsoup4->gdown) (2.5)\n",
            "Requirement already satisfied: charset-normalizer<4,>=2 in /usr/local/lib/python3.10/site-packages (from requests[socks]->gdown) (3.3.2)\n",
            "Requirement already satisfied: idna<4,>=2.5 in /usr/local/lib/python3.10/site-packages (from requests[socks]->gdown) (3.6)\n",
            "Requirement already satisfied: urllib3<3,>=1.21.1 in /usr/local/lib/python3.10/site-packages (from requests[socks]->gdown) (2.1.0)\n",
            "Requirement already satisfied: certifi>=2017.4.17 in /usr/local/lib/python3.10/site-packages (from requests[socks]->gdown) (2024.2.2)\n",
            "Requirement already satisfied: PySocks!=1.5.7,>=1.5.6 in /usr/local/lib/python3.10/site-packages (from requests[socks]->gdown) (1.7.1)\n",
            "\u001b[33mWARNING: Running pip as the 'root' user can result in broken permissions and conflicting behaviour with the system package manager. It is recommended to use a virtual environment instead: https://pip.pypa.io/warnings/venv\u001b[0m\u001b[33m\n",
            "\u001b[0m"
          ]
        }
      ]
    },
    {
      "cell_type": "code",
      "source": [
        "!rm ~/.cache/gdown/cookies.json"
      ],
      "metadata": {
        "id": "hIzQIvqIX1RI",
        "colab": {
          "base_uri": "https://localhost:8080/"
        },
        "outputId": "cda0e225-648e-4c09-a09f-880c54e18c2d"
      },
      "execution_count": 14,
      "outputs": [
        {
          "output_type": "stream",
          "name": "stdout",
          "text": [
            "rm: cannot remove '/root/.cache/gdown/cookies.json': No such file or directory\n"
          ]
        }
      ]
    },
    {
      "cell_type": "markdown",
      "source": [
        "### Файлы"
      ],
      "metadata": {
        "id": "XkghFgrkhSlf"
      }
    },
    {
      "cell_type": "markdown",
      "source": [
        "bam SRR5836473\n",
        "\n",
        "https://drive.google.com/file/d/1h8kqppLRjNoK2uwcnXfK7iQbe_sXQmor/view?usp=drive_link"
      ],
      "metadata": {
        "id": "Qo6Bz3KxgmHP"
      }
    },
    {
      "cell_type": "markdown",
      "source": [
        "bam SRR5836475\n",
        "\n",
        "https://drive.google.com/file/d/1QE-3m9IoJehidSrLM7Npg8larZ4Tt1Ls/view?usp=drive_link"
      ],
      "metadata": {
        "id": "qM1Co-nzgxu3"
      }
    },
    {
      "cell_type": "markdown",
      "source": [
        "bam SRR3824222\n",
        "\n",
        "https://drive.google.com/file/d/1vZUsitBBYAYaVHbfonRuoHEK_toNZnN5/view?usp=drive_link"
      ],
      "metadata": {
        "id": "IDOeFaZPg6G1"
      }
    },
    {
      "cell_type": "code",
      "execution_count": 15,
      "metadata": {
        "colab": {
          "base_uri": "https://localhost:8080/"
        },
        "id": "cuOUtgXNwoQh",
        "outputId": "dbb399f8-56bb-40d5-95fb-9f9bc44f2f65"
      },
      "outputs": [
        {
          "output_type": "stream",
          "name": "stdout",
          "text": [
            "/usr/local/lib/python3.10/site-packages/gdown/__main__.py:132: FutureWarning: Option `--id` was deprecated in version 4.3.1 and will be removed in 5.0. You don't need to pass it anymore to use a file ID.\n",
            "  warnings.warn(\n",
            "Downloading...\n",
            "From (original): https://drive.google.com/uc?id=1h8kqppLRjNoK2uwcnXfK7iQbe_sXQmor\n",
            "From (redirected): https://drive.google.com/uc?id=1h8kqppLRjNoK2uwcnXfK7iQbe_sXQmor&confirm=t&uuid=9f6ac408-62a0-44ef-b329-d1d282ee3c68\n",
            "To: /content/SRR5836473_1_bismark_bt2_pe.bam\n",
            "100% 806M/806M [00:06<00:00, 132MB/s] \n"
          ]
        }
      ],
      "source": [
        "# bam SRR5836473\n",
        "! gdown --id 1h8kqppLRjNoK2uwcnXfK7iQbe_sXQmor"
      ]
    },
    {
      "cell_type": "code",
      "source": [
        "# bam SRR5836475\n",
        "! gdown --id 1QE-3m9IoJehidSrLM7Npg8larZ4Tt1Ls"
      ],
      "metadata": {
        "colab": {
          "base_uri": "https://localhost:8080/"
        },
        "id": "3cTv35nL2ncp",
        "outputId": "ace3d15c-07a0-48f4-9bc2-4ebba54f01c6"
      },
      "execution_count": 16,
      "outputs": [
        {
          "output_type": "stream",
          "name": "stdout",
          "text": [
            "/usr/local/lib/python3.10/site-packages/gdown/__main__.py:132: FutureWarning: Option `--id` was deprecated in version 4.3.1 and will be removed in 5.0. You don't need to pass it anymore to use a file ID.\n",
            "  warnings.warn(\n",
            "Downloading...\n",
            "From (original): https://drive.google.com/uc?id=1QE-3m9IoJehidSrLM7Npg8larZ4Tt1Ls\n",
            "From (redirected): https://drive.google.com/uc?id=1QE-3m9IoJehidSrLM7Npg8larZ4Tt1Ls&confirm=t&uuid=b8bca9bb-dd56-45aa-85cd-cb206c4f9cf5\n",
            "To: /content/SRR5836475_1_bismark_bt2_pe.bam\n",
            "100% 1.20G/1.20G [00:11<00:00, 103MB/s]\n"
          ]
        }
      ]
    },
    {
      "cell_type": "code",
      "source": [
        "# bam SRR3824222\n",
        "! gdown --id 1vZUsitBBYAYaVHbfonRuoHEK_toNZnN5"
      ],
      "metadata": {
        "colab": {
          "base_uri": "https://localhost:8080/"
        },
        "id": "U06iStEf2rth",
        "outputId": "2696cb3f-711a-4347-8ab6-677dd406ad90"
      },
      "execution_count": 17,
      "outputs": [
        {
          "output_type": "stream",
          "name": "stdout",
          "text": [
            "/usr/local/lib/python3.10/site-packages/gdown/__main__.py:132: FutureWarning: Option `--id` was deprecated in version 4.3.1 and will be removed in 5.0. You don't need to pass it anymore to use a file ID.\n",
            "  warnings.warn(\n",
            "Downloading...\n",
            "From (original): https://drive.google.com/uc?id=1vZUsitBBYAYaVHbfonRuoHEK_toNZnN5\n",
            "From (redirected): https://drive.google.com/uc?id=1vZUsitBBYAYaVHbfonRuoHEK_toNZnN5&confirm=t&uuid=8eaba541-9485-4625-b50c-4a7fd05f80a8\n",
            "To: /content/SRR3824222_1_bismark_bt2_pe.bam\n",
            "100% 2.04G/2.04G [00:19<00:00, 104MB/s] \n"
          ]
        }
      ]
    },
    {
      "cell_type": "markdown",
      "source": [
        "### Отчеты"
      ],
      "metadata": {
        "id": "02vssGhAhMpm"
      }
    },
    {
      "cell_type": "markdown",
      "source": [
        "SRR5836473:\n",
        "\n",
        "https://drive.google.com/file/d/1ybuIMaW1BWdz-ehkzg7BmlZVWu4R6pte/view?usp=drive_link"
      ],
      "metadata": {
        "id": "EPFNXSzEhPsX"
      }
    },
    {
      "cell_type": "markdown",
      "source": [
        "SRR5836475:\n",
        "\n",
        "https://drive.google.com/file/d/1L-kZURPu5A7QHxEz8d2pnH-cfaWlYggP/view?usp=drive_link"
      ],
      "metadata": {
        "id": "FOhLe-JWhcqS"
      }
    },
    {
      "cell_type": "markdown",
      "source": [
        "SRR3824222:\n",
        "\n",
        "https://drive.google.com/file/d/1RC6FJEmdWwz8iGwBTJdEcf08wwHHyp1x/view?usp=drive_link"
      ],
      "metadata": {
        "id": "jhUa2bnRhioE"
      }
    },
    {
      "cell_type": "code",
      "source": [
        "# отчет о выравнивании SRR5836473\n",
        "! gdown --id 1ybuIMaW1BWdz-ehkzg7BmlZVWu4R6pte\n",
        "# отчет о выравнивании SRR5836475\n",
        "! gdown --id 1L-kZURPu5A7QHxEz8d2pnH-cfaWlYggP\n",
        "# отчет о выравнивании SRR3824222\n",
        "! gdown --id 1RC6FJEmdWwz8iGwBTJdEcf08wwHHyp1x"
      ],
      "metadata": {
        "id": "pkUcKexXjHzK",
        "colab": {
          "base_uri": "https://localhost:8080/"
        },
        "outputId": "a1b7730b-2192-4d6b-df18-ddbbc77a8e28"
      },
      "execution_count": 18,
      "outputs": [
        {
          "output_type": "stream",
          "name": "stdout",
          "text": [
            "/usr/local/lib/python3.10/site-packages/gdown/__main__.py:132: FutureWarning: Option `--id` was deprecated in version 4.3.1 and will be removed in 5.0. You don't need to pass it anymore to use a file ID.\n",
            "  warnings.warn(\n",
            "Downloading...\n",
            "From: https://drive.google.com/uc?id=1ybuIMaW1BWdz-ehkzg7BmlZVWu4R6pte\n",
            "To: /content/SRR5836473_1_bismark_bt2_PE_report.txt\n",
            "100% 1.74k/1.74k [00:00<00:00, 6.66MB/s]\n",
            "/usr/local/lib/python3.10/site-packages/gdown/__main__.py:132: FutureWarning: Option `--id` was deprecated in version 4.3.1 and will be removed in 5.0. You don't need to pass it anymore to use a file ID.\n",
            "  warnings.warn(\n",
            "Downloading...\n",
            "From: https://drive.google.com/uc?id=1L-kZURPu5A7QHxEz8d2pnH-cfaWlYggP\n",
            "To: /content/SRR5836475_1_bismark_bt2_PE_report.txt\n",
            "100% 1.74k/1.74k [00:00<00:00, 7.63MB/s]\n",
            "/usr/local/lib/python3.10/site-packages/gdown/__main__.py:132: FutureWarning: Option `--id` was deprecated in version 4.3.1 and will be removed in 5.0. You don't need to pass it anymore to use a file ID.\n",
            "  warnings.warn(\n",
            "Downloading...\n",
            "From: https://drive.google.com/uc?id=1RC6FJEmdWwz8iGwBTJdEcf08wwHHyp1x\n",
            "To: /content/SRR3824222_1_bismark_bt2_PE_report.txt\n",
            "100% 1.75k/1.75k [00:00<00:00, 5.62MB/s]\n"
          ]
        }
      ]
    },
    {
      "cell_type": "code",
      "execution_count": 19,
      "metadata": {
        "colab": {
          "base_uri": "https://localhost:8080/"
        },
        "id": "AxMpAQFVQFR8",
        "outputId": "ea2c36c4-c87b-44c4-924d-6d287c74ba01"
      },
      "outputs": [
        {
          "output_type": "stream",
          "name": "stdout",
          "text": [
            "total 3.8G\n",
            "-rw-r--r-- 1 root root  23K Feb 11 18:04 condacolab_install.log\n",
            "-rw-r--r-- 1 root root 9.8M Jan 15  2020 fastqc_v0.11.9.zip\n",
            "-rw-r--r-- 1 root root 9.8M Jan 15  2020 fastqc_v0.11.9.zip.1\n",
            "drwxr-xr-x 1 root root 4.0K Feb  8 14:21 sample_data\n",
            "-rw-r--r-- 1 root root 1.9G Feb 11 18:47 SRR3824222_1_bismark_bt2_pe.bam\n",
            "-rw-r--r-- 1 root root 1.8K Feb 11 18:47 SRR3824222_1_bismark_bt2_PE_report.txt\n",
            "-rw-r--r-- 1 root root 769M Feb 11 18:46 SRR5836473_1_bismark_bt2_pe.bam\n",
            "-rw-r--r-- 1 root root 1.8K Feb 11 18:47 SRR5836473_1_bismark_bt2_PE_report.txt\n",
            "-rw-r--r-- 1 root root 570K Feb 11 16:43 SRR5836473_1_fastqc.html\n",
            "-rw-r--r-- 1 root root 296K Feb 11 16:43 SRR5836473_1_fastqc.zip\n",
            "-rw-r--r-- 1 root root 8.5M Feb 11 18:46 SRR5836473_1.fastq.gz\n",
            "-rw-r--r-- 1 root root 582K Feb 11 18:04 SRR5836473_2_fastqc.html\n",
            "-rw-r--r-- 1 root root 310K Feb 11 18:04 SRR5836473_2_fastqc.zip\n",
            "-rw-r--r-- 1 root root 640K Feb 11 18:46 SRR5836473_2.fastq.gz\n",
            "-rw-r--r-- 1 root root 1.2G Feb 11 18:47 SRR5836475_1_bismark_bt2_pe.bam\n",
            "-rw-r--r-- 1 root root 1.8K Feb 11 18:47 SRR5836475_1_bismark_bt2_PE_report.txt\n"
          ]
        }
      ],
      "source": [
        "! ls -lh"
      ]
    },
    {
      "cell_type": "code",
      "execution_count": 42,
      "metadata": {
        "colab": {
          "base_uri": "https://localhost:8080/"
        },
        "id": "yMQy_LQ8xSOP",
        "outputId": "ea962fa9-0fdf-4830-8c30-343ef4141e13"
      },
      "outputs": [
        {
          "output_type": "stream",
          "name": "stdout",
          "text": [
            "SRR5836473.41_41_length=140\t99\tchr11\t40076664\t0\t140M\t=\t40076703\t178\tAATTTTTTTGGGGATTGTATTGAATTTGTAGATTGTTTTTGGTAAGAGAGTTATTTTTATTATATTGATTTTGTTAATTTATGAATATGGGAGATTTTTTTATTTTTTGAGATTTTTTTTAATTTTTTTTTTTAGAGATT\tKKKKKKKKKKKKKKKFKKKKKKKKKKKKKKFKKKKKKKKKFKKKKKKKKKFKKKKKKKKKKKKKKKKKKKKKKKKKKKKKKKKKKKKKKKKKKKKKKKKKKKKKKKKKKKKKKKKKKKKKKKKKKKKKKKKKKF7<77FF\tNM:i:28\tMD:Z:6G0A9C7C9C6C4T2C0C7C9C0C2C0C3C0C5C9C3C0C2C2C6C2C8C3C2C5C1\tXM:Z:.................h.......x.........h......h.......hh.......h.........hx..hh...hh.....h.........h...hh..h..x......h..h........h...h..x.....h.\tXR:Z:CT\tXG:Z:CT\n",
            "SRR5836473.41_41_length=140\t147\tchr11\t40076703\t0\t139M\t=\t40076664\t-178\tTGGTAAGAGAGTTATTTTTATTATATTGATTTTGTTAATTTATGAATATGGGAGATTTTTTTATTTTTTGAGATTTTTTTTAATTTTTTTTTTTAGAGATTTGAAGTTTTTATTATATAGATTTTTTATTTTTTTAGTG\tKKKKKAAFFFKKKKKKKKKKKKKFFKKKKKKKKKKFAFKKKKKKKKKKKKKKKKKKKKKKKKKKKKKKFKKKKKKKKKKKKFKKKKKKKKKKKKKKKKKKKKKKKKKKKKKKKKKKKKKKKKKKKKKKKKKKKKKKKKK\tNM:i:31\tMD:Z:3C4T2C0C7C9C0C2C0C3C0C5C9C3C0C2C2C6C2C8C3C2C5C8C4C3A4C3C1C2C6T0\tXM:Z:...h.......hh.......h.........hx..hh...hh.....h.........h...hh..h..x......h..h........h...h..x.....h........h....h........h...h.h..h.......\tXR:Z:GA\tXG:Z:CT\n",
            "SRR5836473.231_231_length=140\t83\tchr11\t48401999\t0\t140M\t=\t48401992\t-147\tACAAATTACTCCTTCTAATTCATTAAAAAATTAAATTAAAATTATAATAAAAATTACATTAAATCTATAAATTACTTTTAACAAAATAACCATTTTTACAATATTAATCCTACCAATCCATAAACACAAAAAAACTTTCC\tKKKKKKKKF<KKKKKKKKKFKKKKKKKKKKFKKKKKKKKKKKKKKKKKKKKKKKKKKKKKKKKKKKKKKKKKKKKKKKKKKKKKKKKKKKKKKKKKKKKKKKKKKKKKKKKKKKKKKKKKKKKFKKKKKKKKKKKKKKKK\tNM:i:34\tMD:Z:0G2G3G13G2G2G4G1G2G0G6G2G0G0G0G3G4G5G2G3G5G0G3G3G13G2G5G9G1G2T1G0G1G1T6\tXM:Z:h..x...h.............z..h..h....h.h..hh......h..hhhh...h....h.....x..h...h.....hh...h...h.............h..h.....x.........h.h....hh.h........\tXR:Z:CT\tXG:Z:GA\n",
            "SRR5836473.231_231_length=140\t163\tchr11\t48401992\t0\t139M\t=\t48401999\t147\tTAAATTTACAAATTACTCCTTCTAATTCATTAAAAAATTAAATTAAAATTATAATAAAAATTACATTAAATCTATAAATTACTTTTAACAAAATAACCATTTTTACAATATTAATCCTACCAATCCATAAACACAAAAA\tFFKFKKKKKKKKKKKKKKKKKKKKKKKKKKKKKKKKKKKKKKKKKKKKKKKKKKKKKKKKKKKKKKKAKFFKKKKKKKKKKKKKKKKFKAF<FF<FKKKKKKKKKKFKKKK<FFKAFF<FKF<FK7AF7A,7<AAF<KF\tNM:i:35\tMD:Z:1G3A1G2G3G13G2G2G4G1G2G0G6G2G0G0G0G3G4G5G2G3G5G0G3G3G13G2G5G9G1G2T1G0G1G0\tXM:Z:.h.....h..x...h.............z..h..h....h.h..hh......h..hhhh...h....h.....x..h...h.....hh...h...h.............h..h.....x.........h.h....hh.h\tXR:Z:GA\tXG:Z:GA\n",
            "SRR5836473.1421_1421_length=140\t99\tchr11\t30560802\t0\t140M\t=\t30560952\t289\tTGTTGAGGGGTATTTGGGTTTTTTTTAGTTTTCGGTTATTATAAATAAGGTTGTTATGAATATAGTGTAGTATGTGTTTTTTTTATTGGTTGGAATATTTTTTGGATATATGTTTAGATGAGGTATTGTGGGATTTTTTG\tKKKKKKKKFKFKKKKKKKFKKKKKFKKKKKAK,FAKKKKKKKKKKKKKKKKKKKKKKKKKKKKKKKKKKKKKKKFKKKKKKKKKKKKKKKKKKAKKKKKKKKKKKKKKKKKKKKKKKKKKKKKAKKKKAFFK<AFKKKKK\tNM:i:30\tMD:Z:10C2C6C3C0C2C2C0T2C9C4C2C6C6G2A6C3C3C0C8C2C2C10C0C0C3A9C5C0C1C2\tXM:Z:..........h..x......h...hx..h..x...h.........h....x..h......h................h...h...xz........h..h..x..........hhx.............z.....hh.x..\tXR:Z:CT\tXG:Z:CT\n",
            "SRR5836473.1421_1421_length=140\t147\tchr11\t30560952\t0\t139M\t=\t30560802\t-289\tGTTTAATTTTTTGAAGAATTGTTAGATTGATTTTTAGAGTGGTTGTAAAAGTTTGTAATTTTATTAATAATGGAGGAGTGTTTTTTTTTTTTTATATTTTTTTTAGTATTTGTTGTTATTTGAATTTTTGATTTTAGTT\t<<<<<<KF<KKKKKFFFKKAA<KAFKFKKKKKKKKKFFFFFFKKKFFAFAAKKKKFKKKKKKKKKKKKKKKKKKKKFKKKKKKKKKKKKKKKKFKKKKKKKKKKKKKKKKKKKKKKKKKKKKFKKKKKKKFKKKKKKFF\tNM:i:41\tMD:Z:2C0C6C3G3C2C0C3C6C0C12C3C3C3C0C0C1C0C2C14C0C1C3C1C0C1C1G0C0C1C0G0C0C2C2C2C3C1C0C12C5C0\tXM:Z:..hh......x.......x..hx...x......hx................h...h...hhh.hh..h..............hh.h...h.hh.x..hh.z.hx..h..x..x...h.hx............h.....h\tXR:Z:GA\tXG:Z:CT\n",
            "SRR5836473.2061_2061_length=140\t99\tchr11\t73270947\t0\t139M\t=\t73270962\t154\tATAAGAGATAGTTATATTAGGGTTTTGTTAGTAAAATTTTGTTGGTATTTGTAGTAGTGTTTGGGTTTGGTGGTTGTTTATGGGATGGATTTATGGGTGGGGTAGTTTTTGGATGGTTTTTTTTTTTATTTTAGTTTTG\tKKKKKKKKKKKFKKKKKKKKKKFKKKKKKKKKKKKKKFKKKKKKKKKKKKKKKKFKKFKKKKKKKKKKKKKKKKKKKKKKKKKKKKKKFFKKKKKKKFKKKK7AFAFKKKKKF7FKKKKKKFKFAKKKKKKKKF7FFKF\tNM:i:31\tMD:Z:1C6C2C5C5C0C3C2C5C3C3C2A2C1A4A1C1A27C0C10C3C1C9C2C0C2C0C2C1C2C1C2\tXM:Z:.h......x..h.....x.....hx...x..h.....h...x...h.....h........h.............................hh..........x...h.x.........h..hh..hh..h.x..h.x..\tXR:Z:CT\tXG:Z:CT\n",
            "SRR5836473.2061_2061_length=140\t147\tchr11\t73270962\t0\t139M\t=\t73270947\t-154\tATTAGGGTTTTGTTAGTAAAATTTTGTTGGTATTTGTAGTAGTGTTTGGGTTTGGTGGTTGTTTATGGGATGGATTTATGGGTGGGGTAGTTTTTGGATGGTTTTTTTTTTTATTTTAGTTTTGAATTTTGTTTTTGTA\tA7<AAAAA77AKKKFKKKFKKKKAKF<KKKFKKFKKFKAAKKKKFKAKKKKKKKFKKKKKKKKKKKKKFKKKKKKKKKKKKKKKKKKKKKKKKKKKKKKKKKKKKKKKKKKKKKKKKKKKKKKKKKKKKKKKKKKKKKK\tNM:i:31\tMD:Z:2C5C0C3C2C5C3C3C2A2C1A4A1C1A27C0C10C3C1C9C2C0C2C0C2C1C2C1C4C5C1C4\tXM:Z:..x.....hx...x..h.....h...x...h.....h........h.............................hh..........x...h.x.........h..hh..hh..h.x..h.x....h.....h.x....\tXR:Z:GA\tXG:Z:CT\n",
            "SRR5836473.3331_3331_length=140\t99\tchr11\t43350802\t40\t140M\t=\t43350876\t214\tTTTTAATGTAAGTTGTATAAGGAGTATAATTAGGTTTAGGTGATGTTGAAAATAATATAATTTTATTTATAAATATTATTATTATTATGATAAAGGGAAAGGTGATTATTTTTAAAAGATTATGATGGTTTGTTGGTAAT\tKKKKKKKKKKKKKKKKKKKKKKKKKKKKKKKKKKKKKKKKKKKKKKKKKKKKKKKKKKKKKKKKKKKKKKKKKKKKKKKKKKKKKKKKKKKKKKKKKKKKKKKKKKKKKKKKKKKKKKKKKKKKKKFKFFKKKKKKKKKF\tNM:i:29\tMD:Z:0C5C1C6C0T0C7G0C3C3C1C23C2C1C0C6C2C1C0C1C23C0C3C0C0C7C7C0C6C3\tXM:Z:h.....z.h......h.h........h...x...h.x.......................h..h.hh......h..h.hh.h.......................hh...hhh.......h.......hx......h...\tXR:Z:CT\tXG:Z:CT\n",
            "SRR5836473.3331_3331_length=140\t147\tchr11\t43350876\t40\t140M\t=\t43350802\t-214\tATTATTATTATTATGATAAAGGGAAAGGTGATTATTTTTAAAAGATTATGATGGTTTGTTGGTAATGTTATTGTTATACGTAGTATGTTTTGGTGTTATTTGGATTTTGTATTTTTTATAGTTTTTTTATTTTGTTAATT\tKFKKKKK<KKKKKFKAKFKKKKKKKKKKKKKKKKKKKKKKKKKKKKKKKFFKKKKKKKKKKKKKKKKKKKKKKKKKKKKKKFKKKKKKKKKKKKKKKKKKKKKKKKKKKKKKKKKKKKKKKKKKKKKKKKKKKKKKKKKK\tNM:i:34\tMD:Z:2C1C0C1C23C0C3C0C0C7C7C0C6C4C2C2C6C2C3C0C7C2C0C3C0C1C1C4C0C11C1C0C4C3C0\tXM:Z:..h.hh.h.......................hh...hhh.......h.......hx......h....h..x..h....Z.x..h...hh.......h..xz...hh.z.h....hh...........h.hh....h...h\tXR:Z:GA\tXG:Z:CT\n"
          ]
        }
      ],
      "source": [
        "! samtools view SRR5836473_1_bismark_bt2_pe.bam | head"
      ]
    },
    {
      "cell_type": "code",
      "execution_count": 43,
      "metadata": {
        "colab": {
          "base_uri": "https://localhost:8080/"
        },
        "id": "SrGGCxZQ2Ao3",
        "outputId": "ddf6c32f-d5a7-4957-b486-a7fd5b37f1f0"
      },
      "outputs": [
        {
          "output_type": "stream",
          "name": "stdout",
          "text": [
            "[bam_sort_core] merging from 4 files and 1 in-memory blocks...\n",
            "[bam_sort_core] merging from 9 files and 1 in-memory blocks...\n",
            "[bam_sort_core] merging from 5 files and 1 in-memory blocks...\n"
          ]
        }
      ],
      "source": [
        "! samtools sort SRR5836473_1_bismark_bt2_pe.bam -o sorted_8cell.bam\n",
        "! samtools sort SRR3824222_1_bismark_bt2_pe.bam -o sorted_epiblast.bam\n",
        "! samtools sort SRR5836475_1_bismark_bt2_pe.bam -o sorted_icm.bam"
      ]
    },
    {
      "cell_type": "code",
      "execution_count": 44,
      "metadata": {
        "id": "GErvoOM-3Axj"
      },
      "outputs": [],
      "source": [
        "! samtools index  sorted_8cell.bam\n",
        "! samtools index  sorted_epiblast.bam\n",
        "! samtools index  sorted_icm.bam"
      ]
    },
    {
      "cell_type": "markdown",
      "metadata": {
        "id": "Lw--6KavBoXp"
      },
      "source": [
        "Сколько ридов закартировалось на регион 11347700-11367700; 40185800-40195800 во всех образцах?"
      ]
    },
    {
      "cell_type": "code",
      "execution_count": 45,
      "metadata": {
        "id": "b-ZhJMlax75S",
        "colab": {
          "base_uri": "https://localhost:8080/"
        },
        "outputId": "36decd0d-7b5d-4684-f147-86950512a81a"
      },
      "outputs": [
        {
          "output_type": "stream",
          "name": "stdout",
          "text": [
            "551\n",
            "194\n"
          ]
        }
      ],
      "source": [
        "! samtools view sorted_8cell.bam chr11:11347700-11367700 | cut -f1 | sort -u | wc -l\n",
        "! samtools view sorted_8cell.bam chr11:40185800-40195800 | cut -f1 | sort -u | wc -l"
      ]
    },
    {
      "cell_type": "code",
      "source": [
        "! samtools view sorted_epiblast.bam chr11:11347700-11367700 | cut -f1 | sort -u | wc -l\n",
        "! samtools view sorted_epiblast.bam chr11:40185800-40195800 | cut -f1 | sort -u | wc -l"
      ],
      "metadata": {
        "id": "mPYMPU7_WMFn",
        "colab": {
          "base_uri": "https://localhost:8080/"
        },
        "outputId": "7f90d4ec-5c0e-458b-cd19-25a3e40e752b"
      },
      "execution_count": 46,
      "outputs": [
        {
          "output_type": "stream",
          "name": "stdout",
          "text": [
            "1344\n",
            "565\n"
          ]
        }
      ]
    },
    {
      "cell_type": "code",
      "source": [
        "! samtools view sorted_icm.bam chr11:11347700-11367700 | cut -f1 | sort -u | wc -l\n",
        "! samtools view sorted_icm.bam chr11:40185800-40195800 | cut -f1 | sort -u | wc -l"
      ],
      "metadata": {
        "id": "natsecL2YjWr",
        "colab": {
          "base_uri": "https://localhost:8080/"
        },
        "outputId": "bc4db4c0-96c7-4bd9-cd2d-482f1c380dd4"
      },
      "execution_count": 47,
      "outputs": [
        {
          "output_type": "stream",
          "name": "stdout",
          "text": [
            "797\n",
            "274\n"
          ]
        }
      ]
    },
    {
      "cell_type": "markdown",
      "metadata": {
        "id": "CliRCSUQTmV-"
      },
      "source": [
        "Дедупликация"
      ]
    },
    {
      "cell_type": "code",
      "execution_count": 48,
      "metadata": {
        "id": "ShW-Fhzq19kE",
        "colab": {
          "base_uri": "https://localhost:8080/"
        },
        "outputId": "f55d82d6-ecc7-4ceb-f3c4-a8b71612e36b"
      },
      "outputs": [
        {
          "output_type": "stream",
          "name": "stdout",
          "text": [
            "deduplicate_bismark --bam --paired -o s_SRR3824222_1_bismark_bt2_pe.bam SRR3824222_1_bismark_bt2_pe.bam\n",
            "deduplicate_bismark --bam --paired -o s_SRR5836473_1_bismark_bt2_pe.bam SRR5836473_1_bismark_bt2_pe.bam\n",
            "deduplicate_bismark --bam --paired -o s_SRR5836475_1_bismark_bt2_pe.bam SRR5836475_1_bismark_bt2_pe.bam\n",
            "Output filename was given as: s_SRR3824222_1_bismark_bt2_pe.bam\n",
            "Processing paired-end Bismark output file(s) (SAM format):\n",
            "SRR3824222_1_bismark_bt2_pe.bam\n",
            "\n",
            "Output filename was given as: s_SRR5836475_1_bismark_bt2_pe.bam\n",
            "Processing paired-end Bismark output file(s) (SAM format):\n",
            "SRR5836475_1_bismark_bt2_pe.bam\n",
            "\n",
            "Output filename was given as: s_SRR5836473_1_bismark_bt2_pe.bam\n",
            "Processing paired-end Bismark output file(s) (SAM format):\n",
            "SRR5836473_1_bismark_bt2_pe.bam\n",
            "\n",
            "\n",
            "If there are several alignments to a single position in the genome the first alignment will be chosen. Since the input files are not in any way sorted this is a near-enough random selection of reads.\n",
            "\n",
            "Checking file >>SRR5836475_1_bismark_bt2_pe.bam<< for signs of file truncation...\n",
            "\n",
            "If there are several alignments to a single position in the genome the first alignment will be chosen. Since the input files are not in any way sorted this is a near-enough random selection of reads.\n",
            "\n",
            "Checking file >>SRR3824222_1_bismark_bt2_pe.bam<< for signs of file truncation...\n",
            "\n",
            "If there are several alignments to a single position in the genome the first alignment will be chosen. Since the input files are not in any way sorted this is a near-enough random selection of reads.\n",
            "\n",
            "Checking file >>SRR5836473_1_bismark_bt2_pe.bam<< for signs of file truncation...\n",
            "\n",
            "\n",
            "\n",
            "\n",
            "\n",
            "\n",
            "Now testing Bismark result file SRR5836475_1_bismark_bt2_pe.bam for positional sorting (which would be bad...)\tNow testing Bismark result file SRR3824222_1_bismark_bt2_pe.bam for positional sorting (which would be bad...)\t\n",
            "\n",
            "\n",
            "Now testing Bismark result file SRR5836473_1_bismark_bt2_pe.bam for positional sorting (which would be bad...)\t...passed!\n",
            "Output file is: s_SRR5836475_1_bismark_bt2_pe.deduplicated.bam\n",
            "\n",
            "...passed!\n",
            "skipping header line:\t@HD\tVN:1.0\tSO:unsorted\n",
            "skipping header line:\t@SQ\tSN:chr11\tLN:121973369\n",
            "skipping header line:\t@PG\tID:Bismark\tVN:v0.24.2\tCL:\"bismark --genome_folder /mnt/cache-1/for_minor/mm39_11/ -q --non_directional -parallel 10 -1 SRR5836475_1.fq -2 SRR5836475_2.fq\"\n",
            "skipping header line:\t@PG\tID:samtools\tPN:samtools\tPP:Bismark\tVN:1.19.2\tCL:/usr/local/bin/samtools view -h --threads 1 SRR5836475_1_bismark_bt2_pe.bam\n",
            "Output file is: s_SRR5836473_1_bismark_bt2_pe.deduplicated.bam\n",
            "\n",
            "skipping header line:\t@HD\tVN:1.0\tSO:unsorted\n",
            "skipping header line:\t@SQ\tSN:chr11\tLN:121973369\n",
            "skipping header line:\t@PG\tID:Bismark\tVN:v0.24.2\tCL:\"bismark --genome_folder /mnt/cache-1/for_minor/mm39_11/ -q --non_directional -parallel 10 -1 SRR3824222_1.fq,SRR5836473_1.fq,SRR5836473_1.fq -2 SRR3824222_2.fq,SRR5836473_2.fq,SRR5836473_2.fq\"\n",
            "skipping header line:\t@PG\tID:samtools\tPN:samtools\tPP:Bismark\tVN:1.19.2\tCL:/usr/local/bin/samtools view -h --threads 1 SRR5836473_1_bismark_bt2_pe.bam\n",
            "...passed!\n",
            "Output file is: s_SRR3824222_1_bismark_bt2_pe.deduplicated.bam\n",
            "\n",
            "skipping header line:\t@HD\tVN:1.0\tSO:unsorted\n",
            "skipping header line:\t@SQ\tSN:chr11\tLN:121973369\n",
            "skipping header line:\t@PG\tID:Bismark\tVN:v0.24.2\tCL:\"bismark --genome_folder /mnt/cache-1/for_minor/mm39_11/ -q --non_directional -parallel 10 -1 SRR3824222_1.fq,SRR5836473_1.fq,SRR5836473_1.fq -2 SRR3824222_2.fq,SRR5836473_2.fq,SRR5836473_2.fq\"\n",
            "skipping header line:\t@PG\tID:samtools\tPN:samtools\tPP:Bismark\tVN:1.19.2\tCL:/usr/local/bin/samtools view -h --threads 1 SRR3824222_1_bismark_bt2_pe.bam\n",
            "\n",
            "Total number of alignments analysed in SRR5836473_1_bismark_bt2_pe.bam:\t2858170\n",
            "Total number duplicated alignments removed:\t522512 (18.28%)\n",
            "Duplicated alignments were found at:\t230677 different position(s)\n",
            "\n",
            "Total count of deduplicated leftover sequences: 2335658 (81.72% of total)\n",
            "\n",
            "\n",
            "Total number of alignments analysed in SRR5836475_1_bismark_bt2_pe.bam:\t4170098\n",
            "Total number duplicated alignments removed:\t378125 (9.07%)\n",
            "Duplicated alignments were found at:\t229940 different position(s)\n",
            "\n",
            "Total count of deduplicated leftover sequences: 3791973 (90.93% of total)\n",
            "\n",
            "\n",
            "Total number of alignments analysed in SRR3824222_1_bismark_bt2_pe.bam:\t7051731\n",
            "Total number duplicated alignments removed:\t205287 (2.91%)\n",
            "Duplicated alignments were found at:\t164998 different position(s)\n",
            "\n",
            "Total count of deduplicated leftover sequences: 6846444 (97.09% of total)\n",
            "\n"
          ]
        }
      ],
      "source": [
        "! ls *pe.bam | xargs -P 4 -tI{} deduplicate_bismark  --bam  --paired  -o s_{} {}"
      ]
    },
    {
      "cell_type": "code",
      "source": [
        "import pandas as pd\n",
        "df = pd.DataFrame({\n",
        "        'Образцы': ['8 Cell', 'Epiblast', 'ICM'],\n",
        "        'chr11:11347700-11367700': [1090, 2328, 1456],\n",
        "        'chr11:40185800-40195800': [464, 1062, 630],\n",
        "        'Процент прочтений дуплицированно': [81.69, 97.08, 90.92]\n",
        "     })\n",
        "df"
      ],
      "metadata": {
        "id": "7InvtDHvd-kq",
        "colab": {
          "base_uri": "https://localhost:8080/",
          "height": 161
        },
        "outputId": "acf9e6c6-891b-4948-d3e6-7e2cfbc7f88a"
      },
      "execution_count": 49,
      "outputs": [
        {
          "output_type": "execute_result",
          "data": {
            "text/plain": [
              "    Образцы  chr11:11347700-11367700  chr11:40185800-40195800  \\\n",
              "0    8 Cell                     1090                      464   \n",
              "1  Epiblast                     2328                     1062   \n",
              "2       ICM                     1456                      630   \n",
              "\n",
              "   Процент прочтений дуплицированно  \n",
              "0                             81.69  \n",
              "1                             97.08  \n",
              "2                             90.92  "
            ],
            "text/html": [
              "\n",
              "  <div id=\"df-637ca346-eac9-48c8-bb5d-d54702febe00\" class=\"colab-df-container\">\n",
              "    <div>\n",
              "<style scoped>\n",
              "    .dataframe tbody tr th:only-of-type {\n",
              "        vertical-align: middle;\n",
              "    }\n",
              "\n",
              "    .dataframe tbody tr th {\n",
              "        vertical-align: top;\n",
              "    }\n",
              "\n",
              "    .dataframe thead th {\n",
              "        text-align: right;\n",
              "    }\n",
              "</style>\n",
              "<table border=\"1\" class=\"dataframe\">\n",
              "  <thead>\n",
              "    <tr style=\"text-align: right;\">\n",
              "      <th></th>\n",
              "      <th>Образцы</th>\n",
              "      <th>chr11:11347700-11367700</th>\n",
              "      <th>chr11:40185800-40195800</th>\n",
              "      <th>Процент прочтений дуплицированно</th>\n",
              "    </tr>\n",
              "  </thead>\n",
              "  <tbody>\n",
              "    <tr>\n",
              "      <th>0</th>\n",
              "      <td>8 Cell</td>\n",
              "      <td>1090</td>\n",
              "      <td>464</td>\n",
              "      <td>81.69</td>\n",
              "    </tr>\n",
              "    <tr>\n",
              "      <th>1</th>\n",
              "      <td>Epiblast</td>\n",
              "      <td>2328</td>\n",
              "      <td>1062</td>\n",
              "      <td>97.08</td>\n",
              "    </tr>\n",
              "    <tr>\n",
              "      <th>2</th>\n",
              "      <td>ICM</td>\n",
              "      <td>1456</td>\n",
              "      <td>630</td>\n",
              "      <td>90.92</td>\n",
              "    </tr>\n",
              "  </tbody>\n",
              "</table>\n",
              "</div>\n",
              "    <div class=\"colab-df-buttons\">\n",
              "\n",
              "  <div class=\"colab-df-container\">\n",
              "    <button class=\"colab-df-convert\" onclick=\"convertToInteractive('df-637ca346-eac9-48c8-bb5d-d54702febe00')\"\n",
              "            title=\"Convert this dataframe to an interactive table.\"\n",
              "            style=\"display:none;\">\n",
              "\n",
              "  <svg xmlns=\"http://www.w3.org/2000/svg\" height=\"24px\" viewBox=\"0 -960 960 960\">\n",
              "    <path d=\"M120-120v-720h720v720H120Zm60-500h600v-160H180v160Zm220 220h160v-160H400v160Zm0 220h160v-160H400v160ZM180-400h160v-160H180v160Zm440 0h160v-160H620v160ZM180-180h160v-160H180v160Zm440 0h160v-160H620v160Z\"/>\n",
              "  </svg>\n",
              "    </button>\n",
              "\n",
              "  <style>\n",
              "    .colab-df-container {\n",
              "      display:flex;\n",
              "      gap: 12px;\n",
              "    }\n",
              "\n",
              "    .colab-df-convert {\n",
              "      background-color: #E8F0FE;\n",
              "      border: none;\n",
              "      border-radius: 50%;\n",
              "      cursor: pointer;\n",
              "      display: none;\n",
              "      fill: #1967D2;\n",
              "      height: 32px;\n",
              "      padding: 0 0 0 0;\n",
              "      width: 32px;\n",
              "    }\n",
              "\n",
              "    .colab-df-convert:hover {\n",
              "      background-color: #E2EBFA;\n",
              "      box-shadow: 0px 1px 2px rgba(60, 64, 67, 0.3), 0px 1px 3px 1px rgba(60, 64, 67, 0.15);\n",
              "      fill: #174EA6;\n",
              "    }\n",
              "\n",
              "    .colab-df-buttons div {\n",
              "      margin-bottom: 4px;\n",
              "    }\n",
              "\n",
              "    [theme=dark] .colab-df-convert {\n",
              "      background-color: #3B4455;\n",
              "      fill: #D2E3FC;\n",
              "    }\n",
              "\n",
              "    [theme=dark] .colab-df-convert:hover {\n",
              "      background-color: #434B5C;\n",
              "      box-shadow: 0px 1px 3px 1px rgba(0, 0, 0, 0.15);\n",
              "      filter: drop-shadow(0px 1px 2px rgba(0, 0, 0, 0.3));\n",
              "      fill: #FFFFFF;\n",
              "    }\n",
              "  </style>\n",
              "\n",
              "    <script>\n",
              "      const buttonEl =\n",
              "        document.querySelector('#df-637ca346-eac9-48c8-bb5d-d54702febe00 button.colab-df-convert');\n",
              "      buttonEl.style.display =\n",
              "        google.colab.kernel.accessAllowed ? 'block' : 'none';\n",
              "\n",
              "      async function convertToInteractive(key) {\n",
              "        const element = document.querySelector('#df-637ca346-eac9-48c8-bb5d-d54702febe00');\n",
              "        const dataTable =\n",
              "          await google.colab.kernel.invokeFunction('convertToInteractive',\n",
              "                                                    [key], {});\n",
              "        if (!dataTable) return;\n",
              "\n",
              "        const docLinkHtml = 'Like what you see? Visit the ' +\n",
              "          '<a target=\"_blank\" href=https://colab.research.google.com/notebooks/data_table.ipynb>data table notebook</a>'\n",
              "          + ' to learn more about interactive tables.';\n",
              "        element.innerHTML = '';\n",
              "        dataTable['output_type'] = 'display_data';\n",
              "        await google.colab.output.renderOutput(dataTable, element);\n",
              "        const docLink = document.createElement('div');\n",
              "        docLink.innerHTML = docLinkHtml;\n",
              "        element.appendChild(docLink);\n",
              "      }\n",
              "    </script>\n",
              "  </div>\n",
              "\n",
              "\n",
              "<div id=\"df-84003a3a-f9f1-46d6-9bc6-99248aae6875\">\n",
              "  <button class=\"colab-df-quickchart\" onclick=\"quickchart('df-84003a3a-f9f1-46d6-9bc6-99248aae6875')\"\n",
              "            title=\"Suggest charts\"\n",
              "            style=\"display:none;\">\n",
              "\n",
              "<svg xmlns=\"http://www.w3.org/2000/svg\" height=\"24px\"viewBox=\"0 0 24 24\"\n",
              "     width=\"24px\">\n",
              "    <g>\n",
              "        <path d=\"M19 3H5c-1.1 0-2 .9-2 2v14c0 1.1.9 2 2 2h14c1.1 0 2-.9 2-2V5c0-1.1-.9-2-2-2zM9 17H7v-7h2v7zm4 0h-2V7h2v10zm4 0h-2v-4h2v4z\"/>\n",
              "    </g>\n",
              "</svg>\n",
              "  </button>\n",
              "\n",
              "<style>\n",
              "  .colab-df-quickchart {\n",
              "      --bg-color: #E8F0FE;\n",
              "      --fill-color: #1967D2;\n",
              "      --hover-bg-color: #E2EBFA;\n",
              "      --hover-fill-color: #174EA6;\n",
              "      --disabled-fill-color: #AAA;\n",
              "      --disabled-bg-color: #DDD;\n",
              "  }\n",
              "\n",
              "  [theme=dark] .colab-df-quickchart {\n",
              "      --bg-color: #3B4455;\n",
              "      --fill-color: #D2E3FC;\n",
              "      --hover-bg-color: #434B5C;\n",
              "      --hover-fill-color: #FFFFFF;\n",
              "      --disabled-bg-color: #3B4455;\n",
              "      --disabled-fill-color: #666;\n",
              "  }\n",
              "\n",
              "  .colab-df-quickchart {\n",
              "    background-color: var(--bg-color);\n",
              "    border: none;\n",
              "    border-radius: 50%;\n",
              "    cursor: pointer;\n",
              "    display: none;\n",
              "    fill: var(--fill-color);\n",
              "    height: 32px;\n",
              "    padding: 0;\n",
              "    width: 32px;\n",
              "  }\n",
              "\n",
              "  .colab-df-quickchart:hover {\n",
              "    background-color: var(--hover-bg-color);\n",
              "    box-shadow: 0 1px 2px rgba(60, 64, 67, 0.3), 0 1px 3px 1px rgba(60, 64, 67, 0.15);\n",
              "    fill: var(--button-hover-fill-color);\n",
              "  }\n",
              "\n",
              "  .colab-df-quickchart-complete:disabled,\n",
              "  .colab-df-quickchart-complete:disabled:hover {\n",
              "    background-color: var(--disabled-bg-color);\n",
              "    fill: var(--disabled-fill-color);\n",
              "    box-shadow: none;\n",
              "  }\n",
              "\n",
              "  .colab-df-spinner {\n",
              "    border: 2px solid var(--fill-color);\n",
              "    border-color: transparent;\n",
              "    border-bottom-color: var(--fill-color);\n",
              "    animation:\n",
              "      spin 1s steps(1) infinite;\n",
              "  }\n",
              "\n",
              "  @keyframes spin {\n",
              "    0% {\n",
              "      border-color: transparent;\n",
              "      border-bottom-color: var(--fill-color);\n",
              "      border-left-color: var(--fill-color);\n",
              "    }\n",
              "    20% {\n",
              "      border-color: transparent;\n",
              "      border-left-color: var(--fill-color);\n",
              "      border-top-color: var(--fill-color);\n",
              "    }\n",
              "    30% {\n",
              "      border-color: transparent;\n",
              "      border-left-color: var(--fill-color);\n",
              "      border-top-color: var(--fill-color);\n",
              "      border-right-color: var(--fill-color);\n",
              "    }\n",
              "    40% {\n",
              "      border-color: transparent;\n",
              "      border-right-color: var(--fill-color);\n",
              "      border-top-color: var(--fill-color);\n",
              "    }\n",
              "    60% {\n",
              "      border-color: transparent;\n",
              "      border-right-color: var(--fill-color);\n",
              "    }\n",
              "    80% {\n",
              "      border-color: transparent;\n",
              "      border-right-color: var(--fill-color);\n",
              "      border-bottom-color: var(--fill-color);\n",
              "    }\n",
              "    90% {\n",
              "      border-color: transparent;\n",
              "      border-bottom-color: var(--fill-color);\n",
              "    }\n",
              "  }\n",
              "</style>\n",
              "\n",
              "  <script>\n",
              "    async function quickchart(key) {\n",
              "      const quickchartButtonEl =\n",
              "        document.querySelector('#' + key + ' button');\n",
              "      quickchartButtonEl.disabled = true;  // To prevent multiple clicks.\n",
              "      quickchartButtonEl.classList.add('colab-df-spinner');\n",
              "      try {\n",
              "        const charts = await google.colab.kernel.invokeFunction(\n",
              "            'suggestCharts', [key], {});\n",
              "      } catch (error) {\n",
              "        console.error('Error during call to suggestCharts:', error);\n",
              "      }\n",
              "      quickchartButtonEl.classList.remove('colab-df-spinner');\n",
              "      quickchartButtonEl.classList.add('colab-df-quickchart-complete');\n",
              "    }\n",
              "    (() => {\n",
              "      let quickchartButtonEl =\n",
              "        document.querySelector('#df-84003a3a-f9f1-46d6-9bc6-99248aae6875 button');\n",
              "      quickchartButtonEl.style.display =\n",
              "        google.colab.kernel.accessAllowed ? 'block' : 'none';\n",
              "    })();\n",
              "  </script>\n",
              "</div>\n",
              "    </div>\n",
              "  </div>\n"
            ]
          },
          "metadata": {},
          "execution_count": 49
        }
      ]
    },
    {
      "cell_type": "code",
      "source": [
        "! gzip -d mouse_chr.fa.gz"
      ],
      "metadata": {
        "id": "ohXg4YG8-TEM"
      },
      "execution_count": 50,
      "outputs": []
    },
    {
      "cell_type": "markdown",
      "source": [
        "Коллинг метилирования"
      ],
      "metadata": {
        "id": "LKBD3cwo1wLx"
      }
    },
    {
      "cell_type": "code",
      "source": [
        "! ls s_* | xargs -P 4 -tI{} bismark_methylation_extractor --gzip --bedGraph --cytosine_report --genome_folder ./mouse_chr {}"
      ],
      "metadata": {
        "id": "hTmd0x4dhKto",
        "colab": {
          "base_uri": "https://localhost:8080/"
        },
        "outputId": "5483d565-de12-43cf-bdf2-32970616c1ab"
      },
      "execution_count": 51,
      "outputs": [
        {
          "output_type": "stream",
          "name": "stdout",
          "text": [
            "bismark_methylation_extractor --gzip --bedGraph --cytosine_report --genome_folder ./mouse_chr s_SRR3824222_1_bismark_bt2_pe.deduplicated.bam\n",
            "bismark_methylation_extractor --gzip --bedGraph --cytosine_report --genome_folder ./mouse_chr s_SRR3824222_1_bismark_bt2_pe.deduplication_report.txt\n",
            "bismark_methylation_extractor --gzip --bedGraph --cytosine_report --genome_folder ./mouse_chr s_SRR5836473_1_bismark_bt2_pe.deduplicated.bam\n",
            "bismark_methylation_extractor --gzip --bedGraph --cytosine_report --genome_folder ./mouse_chr s_SRR5836473_1_bismark_bt2_pe.deduplication_report.txt\n",
            "\n",
            " *** Bismark methylation extractor version v0.24.2 ***\n",
            "\n",
            "\n",
            " *** Bismark methylation extractor version v0.24.2 ***\n",
            "\n",
            "\n",
            " *** Bismark methylation extractor version v0.24.2 ***\n",
            "\n",
            "\n",
            " *** Bismark methylation extractor version v0.24.2 ***\n",
            "\n",
            "Trying to determine the type of mapping from the SAM header line of file s_SRR3824222_1_bismark_bt2_pe.deduplicated.bam\n",
            "Trying to determine the type of mapping from the SAM header line of file s_SRR5836473_1_bismark_bt2_pe.deduplication_report.txt\n",
            "Trying to determine the type of mapping from the SAM header line of file s_SRR3824222_1_bismark_bt2_pe.deduplication_report.txt\n",
            "Trying to determine the type of mapping from the SAM header line of file s_SRR5836473_1_bismark_bt2_pe.deduplicated.bam\n",
            "\n",
            "gzip: s_SRR5836473_1_bismark_bt2_pe.deduplication_report.txt: not in gzip format\n",
            "\n",
            "Setting core usage to single-threaded (default). Consider using --multicore <int> to speed up the extraction process.\n",
            "\n",
            "Summarising Bismark methylation extractor parameters:\n",
            "===============================================================\n",
            "Number of cores to be used: 1\n",
            "Output will be written to the current directory ('/content')\n",
            "\n",
            "\n",
            "Summarising bedGraph parameters:\n",
            "===============================================================\n",
            "Generating additional output in bedGraph and coverage format\n",
            "bedGraph format:\t<Chromosome> <Start Position> <End Position> <Methylation Percentage>\n",
            "coverage format:\t<Chromosome> <Start Position> <End Position> <Methylation Percentage> <count methylated> <count non-methylated>\n",
            "\n",
            "Using a cutoff of 1 read(s) to report cytosine positions\n",
            "Reporting and sorting cytosine methylation information in CpG context only (default)\n",
            "The bedGraph UNIX sort command will use the following memory setting:\t'2G'. Temporary directory used for sorting is the output directory\n",
            "\n",
            "\n",
            "Summarising genome-wide cytosine methylation report parameters:\n",
            "===============================================================\n",
            "Generating comprehensive genome-wide cytosine report\n",
            "(output format: <Chromosome> <Position> <Strand> <count methylated> <count non-methylated>  <C-context>  <trinucleotide context> )\n",
            "Reporting cytosine methylation in CpG context only (default)\n",
            "Using 1-based genomic coordinates (default)\n",
            "The specified genome folder does not appear to be a directory. Please respecify and try again!\n",
            "\n",
            "\n",
            "gzip: s_SRR3824222_1_bismark_bt2_pe.deduplication_report.txt: not in gzip format\n",
            "\n",
            "Setting core usage to single-threaded (default). Consider using --multicore <int> to speed up the extraction process.\n",
            "\n",
            "Summarising Bismark methylation extractor parameters:\n",
            "===============================================================\n",
            "Number of cores to be used: 1\n",
            "Output will be written to the current directory ('/content')\n",
            "\n",
            "\n",
            "Summarising bedGraph parameters:\n",
            "===============================================================\n",
            "Generating additional output in bedGraph and coverage format\n",
            "bedGraph format:\t<Chromosome> <Start Position> <End Position> <Methylation Percentage>\n",
            "coverage format:\t<Chromosome> <Start Position> <End Position> <Methylation Percentage> <count methylated> <count non-methylated>\n",
            "\n",
            "Using a cutoff of 1 read(s) to report cytosine positions\n",
            "Reporting and sorting cytosine methylation information in CpG context only (default)\n",
            "The bedGraph UNIX sort command will use the following memory setting:\t'2G'. Temporary directory used for sorting is the output directory\n",
            "\n",
            "\n",
            "Summarising genome-wide cytosine methylation report parameters:\n",
            "===============================================================\n",
            "Generating comprehensive genome-wide cytosine report\n",
            "(output format: <Chromosome> <Position> <Strand> <count methylated> <count non-methylated>  <C-context>  <trinucleotide context> )\n",
            "Reporting cytosine methylation in CpG context only (default)\n",
            "Using 1-based genomic coordinates (default)\n",
            "The specified genome folder does not appear to be a directory. Please respecify and try again!\n",
            "\n",
            "bismark_methylation_extractor --gzip --bedGraph --cytosine_report --genome_folder ./mouse_chr s_SRR5836475_1_bismark_bt2_pe.deduplicated.bam\n",
            "bismark_methylation_extractor --gzip --bedGraph --cytosine_report --genome_folder ./mouse_chr s_SRR5836475_1_bismark_bt2_pe.deduplication_report.txt\n",
            "Treating file(s) as paired-end data (as extracted from @PG line)\n",
            "\n",
            "Treating file(s) as paired-end data (as extracted from @PG line)\n",
            "\n",
            "\n",
            " *** Bismark methylation extractor version v0.24.2 ***\n",
            "\n",
            "Trying to determine the type of mapping from the SAM header line of file s_SRR5836475_1_bismark_bt2_pe.deduplicated.bam\n",
            "\n",
            " *** Bismark methylation extractor version v0.24.2 ***\n",
            "\n",
            "Trying to determine the type of mapping from the SAM header line of file s_SRR5836475_1_bismark_bt2_pe.deduplication_report.txt\n",
            "Setting option '--no_overlap' since this is (normally) the right thing to do for paired-end data\n",
            "\n",
            "\n",
            "Setting core usage to single-threaded (default). Consider using --multicore <int> to speed up the extraction process.\n",
            "\n",
            "Summarising Bismark methylation extractor parameters:\n",
            "===============================================================\n",
            "Bismark paired-end SAM format specified (default)\n",
            "Number of cores to be used: 1\n",
            "Output will be written to the current directory ('/content')\n",
            "\n",
            "\n",
            "Summarising bedGraph parameters:\n",
            "===============================================================\n",
            "Generating additional output in bedGraph and coverage format\n",
            "bedGraph format:\t<Chromosome> <Start Position> <End Position> <Methylation Percentage>\n",
            "coverage format:\t<Chromosome> <Start Position> <End Position> <Methylation Percentage> <count methylated> <count non-methylated>\n",
            "\n",
            "Using a cutoff of 1 read(s) to report cytosine positions\n",
            "Reporting and sorting cytosine methylation information in CpG context only (default)\n",
            "The bedGraph UNIX sort command will use the following memory setting:\t'2G'. Temporary directory used for sorting is the output directory\n",
            "\n",
            "\n",
            "Summarising genome-wide cytosine methylation report parameters:\n",
            "===============================================================\n",
            "Generating comprehensive genome-wide cytosine report\n",
            "(output format: <Chromosome> <Position> <Strand> <count methylated> <count non-methylated>  <C-context>  <trinucleotide context> )\n",
            "Reporting cytosine methylation in CpG context only (default)\n",
            "Using 1-based genomic coordinates (default)\n",
            "The specified genome folder does not appear to be a directory. Please respecify and try again!\n",
            "\n",
            "Setting option '--no_overlap' since this is (normally) the right thing to do for paired-end data\n",
            "\n",
            "\n",
            "Setting core usage to single-threaded (default). Consider using --multicore <int> to speed up the extraction process.\n",
            "\n",
            "Summarising Bismark methylation extractor parameters:\n",
            "===============================================================\n",
            "Bismark paired-end SAM format specified (default)\n",
            "Number of cores to be used: 1\n",
            "Output will be written to the current directory ('/content')\n",
            "\n",
            "\n",
            "Summarising bedGraph parameters:\n",
            "===============================================================\n",
            "Generating additional output in bedGraph and coverage format\n",
            "bedGraph format:\t<Chromosome> <Start Position> <End Position> <Methylation Percentage>\n",
            "coverage format:\t<Chromosome> <Start Position> <End Position> <Methylation Percentage> <count methylated> <count non-methylated>\n",
            "\n",
            "Using a cutoff of 1 read(s) to report cytosine positions\n",
            "Reporting and sorting cytosine methylation information in CpG context only (default)\n",
            "The bedGraph UNIX sort command will use the following memory setting:\t'2G'. Temporary directory used for sorting is the output directory\n",
            "\n",
            "\n",
            "Summarising genome-wide cytosine methylation report parameters:\n",
            "===============================================================\n",
            "Generating comprehensive genome-wide cytosine report\n",
            "(output format: <Chromosome> <Position> <Strand> <count methylated> <count non-methylated>  <C-context>  <trinucleotide context> )\n",
            "Reporting cytosine methylation in CpG context only (default)\n",
            "Using 1-based genomic coordinates (default)\n",
            "The specified genome folder does not appear to be a directory. Please respecify and try again!\n",
            "\n",
            "Treating file(s) as paired-end data (as extracted from @PG line)\n",
            "\n",
            "\n",
            "gzip: s_SRR5836475_1_bismark_bt2_pe.deduplication_report.txt: not in gzip format\n",
            "\n",
            "Setting core usage to single-threaded (default). Consider using --multicore <int> to speed up the extraction process.\n",
            "\n",
            "Summarising Bismark methylation extractor parameters:\n",
            "===============================================================\n",
            "Number of cores to be used: 1\n",
            "Output will be written to the current directory ('/content')\n",
            "\n",
            "\n",
            "Summarising bedGraph parameters:\n",
            "===============================================================\n",
            "Generating additional output in bedGraph and coverage format\n",
            "bedGraph format:\t<Chromosome> <Start Position> <End Position> <Methylation Percentage>\n",
            "coverage format:\t<Chromosome> <Start Position> <End Position> <Methylation Percentage> <count methylated> <count non-methylated>\n",
            "\n",
            "Using a cutoff of 1 read(s) to report cytosine positions\n",
            "Reporting and sorting cytosine methylation information in CpG context only (default)\n",
            "The bedGraph UNIX sort command will use the following memory setting:\t'2G'. Temporary directory used for sorting is the output directory\n",
            "\n",
            "\n",
            "Summarising genome-wide cytosine methylation report parameters:\n",
            "===============================================================\n",
            "Generating comprehensive genome-wide cytosine report\n",
            "(output format: <Chromosome> <Position> <Strand> <count methylated> <count non-methylated>  <C-context>  <trinucleotide context> )\n",
            "Reporting cytosine methylation in CpG context only (default)\n",
            "Using 1-based genomic coordinates (default)\n",
            "The specified genome folder does not appear to be a directory. Please respecify and try again!\n",
            "\n",
            "Setting option '--no_overlap' since this is (normally) the right thing to do for paired-end data\n",
            "\n",
            "\n",
            "Setting core usage to single-threaded (default). Consider using --multicore <int> to speed up the extraction process.\n",
            "\n",
            "Summarising Bismark methylation extractor parameters:\n",
            "===============================================================\n",
            "Bismark paired-end SAM format specified (default)\n",
            "Number of cores to be used: 1\n",
            "Output will be written to the current directory ('/content')\n",
            "\n",
            "\n",
            "Summarising bedGraph parameters:\n",
            "===============================================================\n",
            "Generating additional output in bedGraph and coverage format\n",
            "bedGraph format:\t<Chromosome> <Start Position> <End Position> <Methylation Percentage>\n",
            "coverage format:\t<Chromosome> <Start Position> <End Position> <Methylation Percentage> <count methylated> <count non-methylated>\n",
            "\n",
            "Using a cutoff of 1 read(s) to report cytosine positions\n",
            "Reporting and sorting cytosine methylation information in CpG context only (default)\n",
            "The bedGraph UNIX sort command will use the following memory setting:\t'2G'. Temporary directory used for sorting is the output directory\n",
            "\n",
            "\n",
            "Summarising genome-wide cytosine methylation report parameters:\n",
            "===============================================================\n",
            "Generating comprehensive genome-wide cytosine report\n",
            "(output format: <Chromosome> <Position> <Strand> <count methylated> <count non-methylated>  <C-context>  <trinucleotide context> )\n",
            "Reporting cytosine methylation in CpG context only (default)\n",
            "Using 1-based genomic coordinates (default)\n",
            "The specified genome folder does not appear to be a directory. Please respecify and try again!\n",
            "\n"
          ]
        }
      ]
    },
    {
      "cell_type": "code",
      "source": [
        "! ls -lh"
      ],
      "metadata": {
        "id": "iNwzMUeAkQ4f",
        "colab": {
          "base_uri": "https://localhost:8080/"
        },
        "outputId": "a823a4f5-03ea-4f0d-c862-6e71dfd5d245"
      },
      "execution_count": 56,
      "outputs": [
        {
          "output_type": "stream",
          "name": "stdout",
          "text": [
            "total 10G\n",
            "-rw-r--r-- 1 root root  23K Feb 11 18:04 condacolab_install.log\n",
            "-rw-r--r-- 1 root root 9.8M Jan 15  2020 fastqc_v0.11.9.zip\n",
            "-rw-r--r-- 1 root root 9.8M Jan 15  2020 fastqc_v0.11.9.zip.1\n",
            "-rw-r--r-- 1 root root 119M Feb 11 21:04 mouse_chr.fa\n",
            "drwxr-xr-x 1 root root 4.0K Feb  8 14:21 sample_data\n",
            "-rw-r--r-- 1 root root 528M Feb 11 20:34 sorted_8cell.bam\n",
            "-rw-r--r-- 1 root root 203K Feb 11 20:41 sorted_8cell.bam.bai\n",
            "-rw-r--r-- 1 root root 1.3G Feb 11 20:38 sorted_epiblast.bam\n",
            "-rw-r--r-- 1 root root 349K Feb 11 20:41 sorted_epiblast.bam.bai\n",
            "-rw-r--r-- 1 root root 777M Feb 11 20:41 sorted_icm.bam\n",
            "-rw-r--r-- 1 root root 341K Feb 11 20:42 sorted_icm.bam.bai\n",
            "-rw-r--r-- 1 root root 1.9G Feb 11 18:47 SRR3824222_1_bismark_bt2_pe.bam\n",
            "-rw-r--r-- 1 root root 3.1M Feb 11 21:05 SRR3824222_1_bismark_bt2_PE_report.html\n",
            "-rw-r--r-- 1 root root 1.8K Feb 11 18:47 SRR3824222_1_bismark_bt2_PE_report.txt\n",
            "-rw-r--r-- 1 root root 769M Feb 11 18:46 SRR5836473_1_bismark_bt2_pe.bam\n",
            "-rw-r--r-- 1 root root 3.1M Feb 11 21:05 SRR5836473_1_bismark_bt2_PE_report.html\n",
            "-rw-r--r-- 1 root root 1.8K Feb 11 18:47 SRR5836473_1_bismark_bt2_PE_report.txt\n",
            "-rw-r--r-- 1 root root 570K Feb 11 16:43 SRR5836473_1_fastqc.html\n",
            "-rw-r--r-- 1 root root 296K Feb 11 16:43 SRR5836473_1_fastqc.zip\n",
            "-rw-r--r-- 1 root root 8.5M Feb 11 18:46 SRR5836473_1.fastq.gz\n",
            "-rw-r--r-- 1 root root 582K Feb 11 18:04 SRR5836473_2_fastqc.html\n",
            "-rw-r--r-- 1 root root 310K Feb 11 18:04 SRR5836473_2_fastqc.zip\n",
            "-rw-r--r-- 1 root root 640K Feb 11 18:46 SRR5836473_2.fastq.gz\n",
            "-rw-r--r-- 1 root root 1.2G Feb 11 18:47 SRR5836475_1_bismark_bt2_pe.bam\n",
            "-rw-r--r-- 1 root root 3.1M Feb 11 21:05 SRR5836475_1_bismark_bt2_PE_report.html\n",
            "-rw-r--r-- 1 root root 1.8K Feb 11 18:47 SRR5836475_1_bismark_bt2_PE_report.txt\n",
            "-rw-r--r-- 1 root root 1.9G Feb 11 20:53 s_SRR3824222_1_bismark_bt2_pe.deduplicated.bam\n",
            "-rw-r--r-- 1 root root  282 Feb 11 20:53 s_SRR3824222_1_bismark_bt2_pe.deduplication_report.txt\n",
            "-rw-r--r-- 1 root root 620M Feb 11 20:48 s_SRR5836473_1_bismark_bt2_pe.deduplicated.bam\n",
            "-rw-r--r-- 1 root root  283 Feb 11 20:48 s_SRR5836473_1_bismark_bt2_pe.deduplication_report.txt\n",
            "-rw-r--r-- 1 root root 1.1G Feb 11 20:51 s_SRR5836475_1_bismark_bt2_pe.deduplicated.bam\n",
            "-rw-r--r-- 1 root root  282 Feb 11 20:51 s_SRR5836475_1_bismark_bt2_pe.deduplication_report.txt\n"
          ]
        }
      ]
    },
    {
      "cell_type": "code",
      "execution_count": 57,
      "metadata": {
        "id": "6RQ7FwM-UsSi",
        "colab": {
          "base_uri": "https://localhost:8080/"
        },
        "outputId": "2cb48dae-c641-484e-df6b-b92ec6ae90c5"
      },
      "outputs": [
        {
          "output_type": "stream",
          "name": "stdout",
          "text": [
            "Found 3 alignment reports in current directory. Now trying to figure out whether there are corresponding optional reports\n",
            "\n",
            "Writing Bismark HTML report to >> SRR3824222_1_bismark_bt2_PE_report.html <<\n",
            "\n",
            "==============================================================================================================\n",
            "Using the following alignment report:\t\t> SRR3824222_1_bismark_bt2_PE_report.txt <\n",
            "Processing alignment report SRR3824222_1_bismark_bt2_PE_report.txt ...\n",
            "Complete\n",
            "\n",
            "No deduplication report file specified, skipping this step\n",
            "No splitting report file specified, skipping this step\n",
            "No M-bias report file specified, skipping this step\n",
            "No nucleotide coverage report file specified, skipping this step\n",
            "==============================================================================================================\n",
            "\n",
            "\n",
            "\n",
            "Writing Bismark HTML report to >> SRR5836473_1_bismark_bt2_PE_report.html <<\n",
            "\n",
            "==============================================================================================================\n",
            "Using the following alignment report:\t\t> SRR5836473_1_bismark_bt2_PE_report.txt <\n",
            "Processing alignment report SRR5836473_1_bismark_bt2_PE_report.txt ...\n",
            "Complete\n",
            "\n",
            "No deduplication report file specified, skipping this step\n",
            "No splitting report file specified, skipping this step\n",
            "No M-bias report file specified, skipping this step\n",
            "No nucleotide coverage report file specified, skipping this step\n",
            "==============================================================================================================\n",
            "\n",
            "\n",
            "\n",
            "Writing Bismark HTML report to >> SRR5836475_1_bismark_bt2_PE_report.html <<\n",
            "\n",
            "==============================================================================================================\n",
            "Using the following alignment report:\t\t> SRR5836475_1_bismark_bt2_PE_report.txt <\n",
            "Processing alignment report SRR5836475_1_bismark_bt2_PE_report.txt ...\n",
            "Complete\n",
            "\n",
            "No deduplication report file specified, skipping this step\n",
            "No splitting report file specified, skipping this step\n",
            "No M-bias report file specified, skipping this step\n",
            "No nucleotide coverage report file specified, skipping this step\n",
            "==============================================================================================================\n",
            "\n",
            "\n"
          ]
        }
      ],
      "source": [
        "! bismark2report"
      ]
    },
    {
      "cell_type": "code",
      "source": [
        "! ls *bedGraph.gz | xargs -tI{} gzip -d {}"
      ],
      "metadata": {
        "id": "8OhwFfdTEk7v",
        "colab": {
          "base_uri": "https://localhost:8080/"
        },
        "outputId": "aacdd9f6-e436-425a-f9ff-b44c173af914"
      },
      "execution_count": 58,
      "outputs": [
        {
          "output_type": "stream",
          "name": "stdout",
          "text": [
            "ls: cannot access '*bedGraph.gz': No such file or directory\n"
          ]
        }
      ]
    },
    {
      "cell_type": "code",
      "source": [
        "! head s_SRR5836473_1_bismark_bt2_pe.deduplicated.bedGraph"
      ],
      "metadata": {
        "id": "tI5AUYTPliqA",
        "colab": {
          "base_uri": "https://localhost:8080/"
        },
        "outputId": "c2c86ee0-22a5-4917-fbaf-b2094fb36e4b"
      },
      "execution_count": 59,
      "outputs": [
        {
          "output_type": "stream",
          "name": "stdout",
          "text": [
            "head: cannot open 's_SRR5836473_1_bismark_bt2_pe.deduplicated.bedGraph' for reading: No such file or directory\n"
          ]
        }
      ]
    },
    {
      "cell_type": "code",
      "source": [
        "import pandas as pd\n",
        "\n",
        "df = pd.read_csv(\"s_SRR5836473_1_bismark_bt2_pe.deduplicated.bedGraph\", delimiter='\\t', skiprows=1, header=None)\n",
        "df.head()"
      ],
      "metadata": {
        "id": "ZbZ-g3llLXUp",
        "colab": {
          "base_uri": "https://localhost:8080/",
          "height": 506
        },
        "outputId": "4cf8cd65-0178-4dd9-a097-d31e3e0276b2"
      },
      "execution_count": 35,
      "outputs": [
        {
          "output_type": "error",
          "ename": "FileNotFoundError",
          "evalue": "[Errno 2] No such file or directory: 's_SRR5836473_1_bismark_bt2_pe.deduplicated.bedGraph'",
          "traceback": [
            "\u001b[0;31m---------------------------------------------------------------------------\u001b[0m",
            "\u001b[0;31mFileNotFoundError\u001b[0m                         Traceback (most recent call last)",
            "\u001b[0;32m<ipython-input-35-270ef9ed18f1>\u001b[0m in \u001b[0;36m<cell line: 3>\u001b[0;34m()\u001b[0m\n\u001b[1;32m      1\u001b[0m \u001b[0;32mimport\u001b[0m \u001b[0mpandas\u001b[0m \u001b[0;32mas\u001b[0m \u001b[0mpd\u001b[0m\u001b[0;34m\u001b[0m\u001b[0;34m\u001b[0m\u001b[0m\n\u001b[1;32m      2\u001b[0m \u001b[0;34m\u001b[0m\u001b[0m\n\u001b[0;32m----> 3\u001b[0;31m \u001b[0mdf\u001b[0m \u001b[0;34m=\u001b[0m \u001b[0mpd\u001b[0m\u001b[0;34m.\u001b[0m\u001b[0mread_csv\u001b[0m\u001b[0;34m(\u001b[0m\u001b[0;34m\"s_SRR5836473_1_bismark_bt2_pe.deduplicated.bedGraph\"\u001b[0m\u001b[0;34m,\u001b[0m \u001b[0mdelimiter\u001b[0m\u001b[0;34m=\u001b[0m\u001b[0;34m'\\t'\u001b[0m\u001b[0;34m,\u001b[0m \u001b[0mskiprows\u001b[0m\u001b[0;34m=\u001b[0m\u001b[0;36m1\u001b[0m\u001b[0;34m,\u001b[0m \u001b[0mheader\u001b[0m\u001b[0;34m=\u001b[0m\u001b[0;32mNone\u001b[0m\u001b[0;34m)\u001b[0m\u001b[0;34m\u001b[0m\u001b[0;34m\u001b[0m\u001b[0m\n\u001b[0m\u001b[1;32m      4\u001b[0m \u001b[0mdf\u001b[0m\u001b[0;34m.\u001b[0m\u001b[0mhead\u001b[0m\u001b[0;34m(\u001b[0m\u001b[0;34m)\u001b[0m\u001b[0;34m\u001b[0m\u001b[0;34m\u001b[0m\u001b[0m\n",
            "\u001b[0;32m/usr/local/lib/python3.10/dist-packages/pandas/util/_decorators.py\u001b[0m in \u001b[0;36mwrapper\u001b[0;34m(*args, **kwargs)\u001b[0m\n\u001b[1;32m    209\u001b[0m                 \u001b[0;32melse\u001b[0m\u001b[0;34m:\u001b[0m\u001b[0;34m\u001b[0m\u001b[0;34m\u001b[0m\u001b[0m\n\u001b[1;32m    210\u001b[0m                     \u001b[0mkwargs\u001b[0m\u001b[0;34m[\u001b[0m\u001b[0mnew_arg_name\u001b[0m\u001b[0;34m]\u001b[0m \u001b[0;34m=\u001b[0m \u001b[0mnew_arg_value\u001b[0m\u001b[0;34m\u001b[0m\u001b[0;34m\u001b[0m\u001b[0m\n\u001b[0;32m--> 211\u001b[0;31m             \u001b[0;32mreturn\u001b[0m \u001b[0mfunc\u001b[0m\u001b[0;34m(\u001b[0m\u001b[0;34m*\u001b[0m\u001b[0margs\u001b[0m\u001b[0;34m,\u001b[0m \u001b[0;34m**\u001b[0m\u001b[0mkwargs\u001b[0m\u001b[0;34m)\u001b[0m\u001b[0;34m\u001b[0m\u001b[0;34m\u001b[0m\u001b[0m\n\u001b[0m\u001b[1;32m    212\u001b[0m \u001b[0;34m\u001b[0m\u001b[0m\n\u001b[1;32m    213\u001b[0m         \u001b[0;32mreturn\u001b[0m \u001b[0mcast\u001b[0m\u001b[0;34m(\u001b[0m\u001b[0mF\u001b[0m\u001b[0;34m,\u001b[0m \u001b[0mwrapper\u001b[0m\u001b[0;34m)\u001b[0m\u001b[0;34m\u001b[0m\u001b[0;34m\u001b[0m\u001b[0m\n",
            "\u001b[0;32m/usr/local/lib/python3.10/dist-packages/pandas/util/_decorators.py\u001b[0m in \u001b[0;36mwrapper\u001b[0;34m(*args, **kwargs)\u001b[0m\n\u001b[1;32m    329\u001b[0m                     \u001b[0mstacklevel\u001b[0m\u001b[0;34m=\u001b[0m\u001b[0mfind_stack_level\u001b[0m\u001b[0;34m(\u001b[0m\u001b[0;34m)\u001b[0m\u001b[0;34m,\u001b[0m\u001b[0;34m\u001b[0m\u001b[0;34m\u001b[0m\u001b[0m\n\u001b[1;32m    330\u001b[0m                 )\n\u001b[0;32m--> 331\u001b[0;31m             \u001b[0;32mreturn\u001b[0m \u001b[0mfunc\u001b[0m\u001b[0;34m(\u001b[0m\u001b[0;34m*\u001b[0m\u001b[0margs\u001b[0m\u001b[0;34m,\u001b[0m \u001b[0;34m**\u001b[0m\u001b[0mkwargs\u001b[0m\u001b[0;34m)\u001b[0m\u001b[0;34m\u001b[0m\u001b[0;34m\u001b[0m\u001b[0m\n\u001b[0m\u001b[1;32m    332\u001b[0m \u001b[0;34m\u001b[0m\u001b[0m\n\u001b[1;32m    333\u001b[0m         \u001b[0;31m# error: \"Callable[[VarArg(Any), KwArg(Any)], Any]\" has no\u001b[0m\u001b[0;34m\u001b[0m\u001b[0;34m\u001b[0m\u001b[0m\n",
            "\u001b[0;32m/usr/local/lib/python3.10/dist-packages/pandas/io/parsers/readers.py\u001b[0m in \u001b[0;36mread_csv\u001b[0;34m(filepath_or_buffer, sep, delimiter, header, names, index_col, usecols, squeeze, prefix, mangle_dupe_cols, dtype, engine, converters, true_values, false_values, skipinitialspace, skiprows, skipfooter, nrows, na_values, keep_default_na, na_filter, verbose, skip_blank_lines, parse_dates, infer_datetime_format, keep_date_col, date_parser, dayfirst, cache_dates, iterator, chunksize, compression, thousands, decimal, lineterminator, quotechar, quoting, doublequote, escapechar, comment, encoding, encoding_errors, dialect, error_bad_lines, warn_bad_lines, on_bad_lines, delim_whitespace, low_memory, memory_map, float_precision, storage_options)\u001b[0m\n\u001b[1;32m    948\u001b[0m     \u001b[0mkwds\u001b[0m\u001b[0;34m.\u001b[0m\u001b[0mupdate\u001b[0m\u001b[0;34m(\u001b[0m\u001b[0mkwds_defaults\u001b[0m\u001b[0;34m)\u001b[0m\u001b[0;34m\u001b[0m\u001b[0;34m\u001b[0m\u001b[0m\n\u001b[1;32m    949\u001b[0m \u001b[0;34m\u001b[0m\u001b[0m\n\u001b[0;32m--> 950\u001b[0;31m     \u001b[0;32mreturn\u001b[0m \u001b[0m_read\u001b[0m\u001b[0;34m(\u001b[0m\u001b[0mfilepath_or_buffer\u001b[0m\u001b[0;34m,\u001b[0m \u001b[0mkwds\u001b[0m\u001b[0;34m)\u001b[0m\u001b[0;34m\u001b[0m\u001b[0;34m\u001b[0m\u001b[0m\n\u001b[0m\u001b[1;32m    951\u001b[0m \u001b[0;34m\u001b[0m\u001b[0m\n\u001b[1;32m    952\u001b[0m \u001b[0;34m\u001b[0m\u001b[0m\n",
            "\u001b[0;32m/usr/local/lib/python3.10/dist-packages/pandas/io/parsers/readers.py\u001b[0m in \u001b[0;36m_read\u001b[0;34m(filepath_or_buffer, kwds)\u001b[0m\n\u001b[1;32m    603\u001b[0m \u001b[0;34m\u001b[0m\u001b[0m\n\u001b[1;32m    604\u001b[0m     \u001b[0;31m# Create the parser.\u001b[0m\u001b[0;34m\u001b[0m\u001b[0;34m\u001b[0m\u001b[0m\n\u001b[0;32m--> 605\u001b[0;31m     \u001b[0mparser\u001b[0m \u001b[0;34m=\u001b[0m \u001b[0mTextFileReader\u001b[0m\u001b[0;34m(\u001b[0m\u001b[0mfilepath_or_buffer\u001b[0m\u001b[0;34m,\u001b[0m \u001b[0;34m**\u001b[0m\u001b[0mkwds\u001b[0m\u001b[0;34m)\u001b[0m\u001b[0;34m\u001b[0m\u001b[0;34m\u001b[0m\u001b[0m\n\u001b[0m\u001b[1;32m    606\u001b[0m \u001b[0;34m\u001b[0m\u001b[0m\n\u001b[1;32m    607\u001b[0m     \u001b[0;32mif\u001b[0m \u001b[0mchunksize\u001b[0m \u001b[0;32mor\u001b[0m \u001b[0miterator\u001b[0m\u001b[0;34m:\u001b[0m\u001b[0;34m\u001b[0m\u001b[0;34m\u001b[0m\u001b[0m\n",
            "\u001b[0;32m/usr/local/lib/python3.10/dist-packages/pandas/io/parsers/readers.py\u001b[0m in \u001b[0;36m__init__\u001b[0;34m(self, f, engine, **kwds)\u001b[0m\n\u001b[1;32m   1440\u001b[0m \u001b[0;34m\u001b[0m\u001b[0m\n\u001b[1;32m   1441\u001b[0m         \u001b[0mself\u001b[0m\u001b[0;34m.\u001b[0m\u001b[0mhandles\u001b[0m\u001b[0;34m:\u001b[0m \u001b[0mIOHandles\u001b[0m \u001b[0;34m|\u001b[0m \u001b[0;32mNone\u001b[0m \u001b[0;34m=\u001b[0m \u001b[0;32mNone\u001b[0m\u001b[0;34m\u001b[0m\u001b[0;34m\u001b[0m\u001b[0m\n\u001b[0;32m-> 1442\u001b[0;31m         \u001b[0mself\u001b[0m\u001b[0;34m.\u001b[0m\u001b[0m_engine\u001b[0m \u001b[0;34m=\u001b[0m \u001b[0mself\u001b[0m\u001b[0;34m.\u001b[0m\u001b[0m_make_engine\u001b[0m\u001b[0;34m(\u001b[0m\u001b[0mf\u001b[0m\u001b[0;34m,\u001b[0m \u001b[0mself\u001b[0m\u001b[0;34m.\u001b[0m\u001b[0mengine\u001b[0m\u001b[0;34m)\u001b[0m\u001b[0;34m\u001b[0m\u001b[0;34m\u001b[0m\u001b[0m\n\u001b[0m\u001b[1;32m   1443\u001b[0m \u001b[0;34m\u001b[0m\u001b[0m\n\u001b[1;32m   1444\u001b[0m     \u001b[0;32mdef\u001b[0m \u001b[0mclose\u001b[0m\u001b[0;34m(\u001b[0m\u001b[0mself\u001b[0m\u001b[0;34m)\u001b[0m \u001b[0;34m->\u001b[0m \u001b[0;32mNone\u001b[0m\u001b[0;34m:\u001b[0m\u001b[0;34m\u001b[0m\u001b[0;34m\u001b[0m\u001b[0m\n",
            "\u001b[0;32m/usr/local/lib/python3.10/dist-packages/pandas/io/parsers/readers.py\u001b[0m in \u001b[0;36m_make_engine\u001b[0;34m(self, f, engine)\u001b[0m\n\u001b[1;32m   1733\u001b[0m                 \u001b[0;32mif\u001b[0m \u001b[0;34m\"b\"\u001b[0m \u001b[0;32mnot\u001b[0m \u001b[0;32min\u001b[0m \u001b[0mmode\u001b[0m\u001b[0;34m:\u001b[0m\u001b[0;34m\u001b[0m\u001b[0;34m\u001b[0m\u001b[0m\n\u001b[1;32m   1734\u001b[0m                     \u001b[0mmode\u001b[0m \u001b[0;34m+=\u001b[0m \u001b[0;34m\"b\"\u001b[0m\u001b[0;34m\u001b[0m\u001b[0;34m\u001b[0m\u001b[0m\n\u001b[0;32m-> 1735\u001b[0;31m             self.handles = get_handle(\n\u001b[0m\u001b[1;32m   1736\u001b[0m                 \u001b[0mf\u001b[0m\u001b[0;34m,\u001b[0m\u001b[0;34m\u001b[0m\u001b[0;34m\u001b[0m\u001b[0m\n\u001b[1;32m   1737\u001b[0m                 \u001b[0mmode\u001b[0m\u001b[0;34m,\u001b[0m\u001b[0;34m\u001b[0m\u001b[0;34m\u001b[0m\u001b[0m\n",
            "\u001b[0;32m/usr/local/lib/python3.10/dist-packages/pandas/io/common.py\u001b[0m in \u001b[0;36mget_handle\u001b[0;34m(path_or_buf, mode, encoding, compression, memory_map, is_text, errors, storage_options)\u001b[0m\n\u001b[1;32m    854\u001b[0m         \u001b[0;32mif\u001b[0m \u001b[0mioargs\u001b[0m\u001b[0;34m.\u001b[0m\u001b[0mencoding\u001b[0m \u001b[0;32mand\u001b[0m \u001b[0;34m\"b\"\u001b[0m \u001b[0;32mnot\u001b[0m \u001b[0;32min\u001b[0m \u001b[0mioargs\u001b[0m\u001b[0;34m.\u001b[0m\u001b[0mmode\u001b[0m\u001b[0;34m:\u001b[0m\u001b[0;34m\u001b[0m\u001b[0;34m\u001b[0m\u001b[0m\n\u001b[1;32m    855\u001b[0m             \u001b[0;31m# Encoding\u001b[0m\u001b[0;34m\u001b[0m\u001b[0;34m\u001b[0m\u001b[0m\n\u001b[0;32m--> 856\u001b[0;31m             handle = open(\n\u001b[0m\u001b[1;32m    857\u001b[0m                 \u001b[0mhandle\u001b[0m\u001b[0;34m,\u001b[0m\u001b[0;34m\u001b[0m\u001b[0;34m\u001b[0m\u001b[0m\n\u001b[1;32m    858\u001b[0m                 \u001b[0mioargs\u001b[0m\u001b[0;34m.\u001b[0m\u001b[0mmode\u001b[0m\u001b[0;34m,\u001b[0m\u001b[0;34m\u001b[0m\u001b[0;34m\u001b[0m\u001b[0m\n",
            "\u001b[0;31mFileNotFoundError\u001b[0m: [Errno 2] No such file or directory: 's_SRR5836473_1_bismark_bt2_pe.deduplicated.bedGraph'"
          ]
        }
      ]
    },
    {
      "cell_type": "code",
      "source": [
        "import seaborn as sns\n",
        "import matplotlib.pyplot as plt\n",
        "\n",
        "sns.set_style(\"darkgrid\")"
      ],
      "metadata": {
        "id": "3E5FFUbbNVJS"
      },
      "execution_count": null,
      "outputs": []
    },
    {
      "cell_type": "code",
      "source": [
        "plt.figure(figsize=[10, 6])\n",
        "plt.title(\"Распределение метилирования 8cell\", fontsize=16)\n",
        "plt.hist(df[3], bins=100, density=True)\n",
        "plt.show()"
      ],
      "metadata": {
        "id": "eCFN3i1_Mwjg"
      },
      "execution_count": null,
      "outputs": []
    },
    {
      "cell_type": "code",
      "source": [
        "df = pd.read_csv(\"s_SRR3824222_1_bismark_bt2_pe.deduplicated.bedGraph\", delimiter='\\t', skiprows=1, header=None)\n",
        "\n",
        "plt.figure(figsize=[10, 6])\n",
        "plt.title(\"Распределение метилирования Epiblast\", fontsize=16)\n",
        "plt.hist(df[3], bins=100, density=True)\n",
        "plt.show()"
      ],
      "metadata": {
        "id": "2lZGgLlNOKC9"
      },
      "execution_count": null,
      "outputs": []
    },
    {
      "cell_type": "code",
      "source": [
        "df = pd.read_csv(\"s_SRR5836475_1_bismark_bt2_pe.deduplicated.bedGraph\", delimiter='\\t', skiprows=1, header=None)\n",
        "\n",
        "plt.figure(figsize=[10, 6])\n",
        "plt.title(\"Распределение метилирования ICM\", fontsize=16)\n",
        "plt.hist(df[3], bins=100, density=True)\n",
        "plt.show()"
      ],
      "metadata": {
        "id": "VOXIUor_OKpt"
      },
      "execution_count": null,
      "outputs": []
    },
    {
      "cell_type": "code",
      "source": [
        "! ls *bismark.cov.gz | xargs -tI{} gzip -d {}"
      ],
      "metadata": {
        "id": "rLE-UoYPGxGD"
      },
      "execution_count": null,
      "outputs": []
    },
    {
      "cell_type": "code",
      "source": [
        "! head s_SRR3824222_1_bismark_bt2_pe.deduplicated.bismark.cov"
      ],
      "metadata": {
        "id": "fcS724jEncto"
      },
      "execution_count": null,
      "outputs": []
    },
    {
      "cell_type": "code",
      "execution_count": null,
      "metadata": {
        "id": "b6k9REsM6NXn"
      },
      "outputs": [],
      "source": [
        "! pip install pyGenomeTracks"
      ]
    },
    {
      "cell_type": "code",
      "source": [
        "! pip install -U ipykernel"
      ],
      "metadata": {
        "id": "fcsJWNmHo1i-"
      },
      "execution_count": null,
      "outputs": []
    },
    {
      "cell_type": "code",
      "source": [
        "! conda install -c bioconda ucsc-fetchchromsizes"
      ],
      "metadata": {
        "id": "UhIKyKz_t7yy"
      },
      "execution_count": null,
      "outputs": []
    },
    {
      "cell_type": "code",
      "source": [
        "! fetchChromSizes mm10 > m.chrom.sizes"
      ],
      "metadata": {
        "id": "LZpspVUvt4EY"
      },
      "execution_count": null,
      "outputs": []
    },
    {
      "cell_type": "code",
      "source": [
        "! conda install -c bioconda ucsc-bedgraphtobigwig"
      ],
      "metadata": {
        "id": "svn9iAuGtVxX"
      },
      "execution_count": null,
      "outputs": []
    },
    {
      "cell_type": "code",
      "source": [
        "! bedGraphToBigWig s_SRR5836473_1_bismark_bt2_pe.deduplicated.bedGraph m.chrom.sizes cell8_methylation.bigWig.bw\n",
        "! bedGraphToBigWig s_SRR3824222_1_bismark_bt2_pe.deduplicated.bedGraph m.chrom.sizes epiblast_methylation.bigWig.bw\n",
        "! bedGraphToBigWig s_SRR5836475_1_bismark_bt2_pe.deduplicated.bedGraph m.chrom.sizes icm_methylation.bigWig.bw"
      ],
      "metadata": {
        "id": "rh0ba_Y_tcq5"
      },
      "execution_count": null,
      "outputs": []
    },
    {
      "cell_type": "code",
      "source": [
        "! head s_SRR5836473_1_bismark_bt2_pe.deduplicated.bedGraph"
      ],
      "metadata": {
        "id": "qofYnYciunf8"
      },
      "execution_count": null,
      "outputs": []
    },
    {
      "cell_type": "code",
      "source": [
        "! make_tracks_file --trackFiles cell8_methylation.bigWig.bw epiblast_methylation.bigWig.bw icm_methylation.bigWig.bw -o tracks.ini"
      ],
      "metadata": {
        "id": "wXmk89wi2x_7"
      },
      "execution_count": null,
      "outputs": []
    },
    {
      "cell_type": "code",
      "source": [
        "! pyGenomeTracks --tracks tracks.ini --region chr11:3100030-3500030 -o coverage_2.png"
      ],
      "metadata": {
        "id": "d0cMXUtT2_iE"
      },
      "execution_count": null,
      "outputs": []
    },
    {
      "cell_type": "code",
      "source": [
        "! apt-get install bedtools"
      ],
      "metadata": {
        "id": "XEWV8p4ku-Hy"
      },
      "execution_count": null,
      "outputs": []
    },
    {
      "cell_type": "code",
      "source": [
        "! bedtools genomecov -bg -ibam s_SRR5836473_1_bismark_bt2_pe.deduplicated.bam -g m.chromSizes  >  s_8_cell.cover.bedGraph"
      ],
      "metadata": {
        "id": "ofhSsnSqvBbu"
      },
      "execution_count": null,
      "outputs": []
    },
    {
      "cell_type": "code",
      "source": [
        "! bedtools genomecov -bg -ibam s_SRR3824222_1_bismark_bt2_pe.deduplicated.bam -g m.chromSizes  >  s_epiblast.cover.bedGraph"
      ],
      "metadata": {
        "id": "WERJcPGYukLR"
      },
      "execution_count": null,
      "outputs": []
    },
    {
      "cell_type": "code",
      "source": [
        "! bedtools genomecov -bg -ibam s_SRR5836475_1_bismark_bt2_pe.deduplicated.bam -g m.chromSizes  >  s_icm.cover.bedGraph"
      ],
      "metadata": {
        "id": "7XwgdIOyuxTg"
      },
      "execution_count": null,
      "outputs": []
    },
    {
      "cell_type": "code",
      "source": [
        "! bedGraphToBigWig   s_8_cell.cover.bedGraph m.chrom.sizes cell8_coverage.bigWig.bw\n",
        "! bedGraphToBigWig   s_epiblast.cover.bedGraph m.chrom.sizes epiblast_coverage.bigWig.bw\n",
        "! bedGraphToBigWig   s_icm.cover.bedGraph m.chrom.sizes icm_coverage.bigWig.bw"
      ],
      "metadata": {
        "id": "RLpT4wFCvr29"
      },
      "execution_count": null,
      "outputs": []
    },
    {
      "cell_type": "code",
      "source": [
        "! head s_8_cell.deduplicated.bedGraph"
      ],
      "metadata": {
        "id": "0egk8Q4VvXss"
      },
      "execution_count": null,
      "outputs": []
    },
    {
      "cell_type": "code",
      "source": [
        "! make_tracks_file --trackFiles cell8_coverage.bigWig.bw epiblast_coverage.bigWig.bw icm_coverage.bigWig.bw -o tracks.ini.txt"
      ],
      "metadata": {
        "id": "JrVlfdnvylP7"
      },
      "execution_count": null,
      "outputs": []
    },
    {
      "cell_type": "code",
      "source": [
        "! pyGenomeTracks --tracks tracks.ini.txt --region chr11:3100030-3500030 -o coverage_1.png"
      ],
      "metadata": {
        "id": "bAaOdZCKsVtX"
      },
      "execution_count": null,
      "outputs": []
    }
  ],
  "metadata": {
    "colab": {
      "provenance": []
    },
    "kernelspec": {
      "display_name": "Python 3",
      "name": "python3"
    },
    "language_info": {
      "name": "python"
    }
  },
  "nbformat": 4,
  "nbformat_minor": 0
}